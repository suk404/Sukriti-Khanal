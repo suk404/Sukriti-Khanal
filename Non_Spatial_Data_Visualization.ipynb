{
  "nbformat": 4,
  "nbformat_minor": 0,
  "metadata": {
    "colab": {
      "provenance": [],
      "include_colab_link": true
    },
    "kernelspec": {
      "name": "python3",
      "display_name": "Python 3"
    },
    "language_info": {
      "name": "python"
    }
  },
  "cells": [
    {
      "cell_type": "markdown",
      "metadata": {
        "id": "view-in-github",
        "colab_type": "text"
      },
      "source": [
        "<a href=\"https://colab.research.google.com/github/suk404/Sukriti-Khanal/blob/main/Non_Spatial_Data_Visualization.ipynb\" target=\"_parent\"><img src=\"https://colab.research.google.com/assets/colab-badge.svg\" alt=\"Open In Colab\"/></a>"
      ]
    },
    {
      "cell_type": "code",
      "execution_count": null,
      "metadata": {
        "id": "UGqtjG7TnDR4"
      },
      "outputs": [],
      "source": [
        "import numpy as np\n",
        "import pandas as pd\n",
        "import matplotlib.pyplot as plt\n",
        "import seaborn as sns\n",
        "from seaborn import load_dataset\n",
        "\n",
        "%matplotlib inline"
      ]
    },
    {
      "cell_type": "code",
      "source": [
        "titanic_path = \"/content/drive/MyDrive/Colab Notebooks/datasets/titanic_train.csv\""
      ],
      "metadata": {
        "id": "qImn1gYSn8_k"
      },
      "execution_count": null,
      "outputs": []
    },
    {
      "cell_type": "markdown",
      "source": [
        "# **Data Visualization**\n",
        "\n",
        "\n",
        "Data Visualization represents the text or numerical data in a visual format, which makes it easy to grasp the information the data express. We, humans, remember the pictures more easily than readable text."
      ],
      "metadata": {
        "id": "xtLh0a59quon"
      }
    },
    {
      "cell_type": "code",
      "source": [
        "titanic_df = pd.read_csv(titanic_path)"
      ],
      "metadata": {
        "id": "RD5nqphFpTJQ"
      },
      "execution_count": null,
      "outputs": []
    },
    {
      "cell_type": "code",
      "source": [
        "titanic_df.head()"
      ],
      "metadata": {
        "colab": {
          "base_uri": "https://localhost:8080/",
          "height": 250
        },
        "id": "IrUShUIBrG18",
        "outputId": "7c5fc48a-4021-4d2c-fd2b-71d921242e6f"
      },
      "execution_count": null,
      "outputs": [
        {
          "output_type": "execute_result",
          "data": {
            "text/html": [
              "\n",
              "  <div id=\"df-6f333c84-81f8-43b9-b1c6-4c44492ac0a9\">\n",
              "    <div class=\"colab-df-container\">\n",
              "      <div>\n",
              "<style scoped>\n",
              "    .dataframe tbody tr th:only-of-type {\n",
              "        vertical-align: middle;\n",
              "    }\n",
              "\n",
              "    .dataframe tbody tr th {\n",
              "        vertical-align: top;\n",
              "    }\n",
              "\n",
              "    .dataframe thead th {\n",
              "        text-align: right;\n",
              "    }\n",
              "</style>\n",
              "<table border=\"1\" class=\"dataframe\">\n",
              "  <thead>\n",
              "    <tr style=\"text-align: right;\">\n",
              "      <th></th>\n",
              "      <th>PassengerId</th>\n",
              "      <th>Survived</th>\n",
              "      <th>Pclass</th>\n",
              "      <th>Name</th>\n",
              "      <th>Sex</th>\n",
              "      <th>Age</th>\n",
              "      <th>SibSp</th>\n",
              "      <th>Parch</th>\n",
              "      <th>Ticket</th>\n",
              "      <th>Fare</th>\n",
              "      <th>Cabin</th>\n",
              "      <th>Embarked</th>\n",
              "    </tr>\n",
              "  </thead>\n",
              "  <tbody>\n",
              "    <tr>\n",
              "      <th>0</th>\n",
              "      <td>1</td>\n",
              "      <td>0</td>\n",
              "      <td>3</td>\n",
              "      <td>Braund, Mr. Owen Harris</td>\n",
              "      <td>male</td>\n",
              "      <td>22.0</td>\n",
              "      <td>1</td>\n",
              "      <td>0</td>\n",
              "      <td>A/5 21171</td>\n",
              "      <td>7.2500</td>\n",
              "      <td>NaN</td>\n",
              "      <td>S</td>\n",
              "    </tr>\n",
              "    <tr>\n",
              "      <th>1</th>\n",
              "      <td>2</td>\n",
              "      <td>1</td>\n",
              "      <td>1</td>\n",
              "      <td>Cumings, Mrs. John Bradley (Florence Briggs Th...</td>\n",
              "      <td>female</td>\n",
              "      <td>38.0</td>\n",
              "      <td>1</td>\n",
              "      <td>0</td>\n",
              "      <td>PC 17599</td>\n",
              "      <td>71.2833</td>\n",
              "      <td>C85</td>\n",
              "      <td>C</td>\n",
              "    </tr>\n",
              "    <tr>\n",
              "      <th>2</th>\n",
              "      <td>3</td>\n",
              "      <td>1</td>\n",
              "      <td>3</td>\n",
              "      <td>Heikkinen, Miss. Laina</td>\n",
              "      <td>female</td>\n",
              "      <td>26.0</td>\n",
              "      <td>0</td>\n",
              "      <td>0</td>\n",
              "      <td>STON/O2. 3101282</td>\n",
              "      <td>7.9250</td>\n",
              "      <td>NaN</td>\n",
              "      <td>S</td>\n",
              "    </tr>\n",
              "    <tr>\n",
              "      <th>3</th>\n",
              "      <td>4</td>\n",
              "      <td>1</td>\n",
              "      <td>1</td>\n",
              "      <td>Futrelle, Mrs. Jacques Heath (Lily May Peel)</td>\n",
              "      <td>female</td>\n",
              "      <td>35.0</td>\n",
              "      <td>1</td>\n",
              "      <td>0</td>\n",
              "      <td>113803</td>\n",
              "      <td>53.1000</td>\n",
              "      <td>C123</td>\n",
              "      <td>S</td>\n",
              "    </tr>\n",
              "    <tr>\n",
              "      <th>4</th>\n",
              "      <td>5</td>\n",
              "      <td>0</td>\n",
              "      <td>3</td>\n",
              "      <td>Allen, Mr. William Henry</td>\n",
              "      <td>male</td>\n",
              "      <td>35.0</td>\n",
              "      <td>0</td>\n",
              "      <td>0</td>\n",
              "      <td>373450</td>\n",
              "      <td>8.0500</td>\n",
              "      <td>NaN</td>\n",
              "      <td>S</td>\n",
              "    </tr>\n",
              "  </tbody>\n",
              "</table>\n",
              "</div>\n",
              "      <button class=\"colab-df-convert\" onclick=\"convertToInteractive('df-6f333c84-81f8-43b9-b1c6-4c44492ac0a9')\"\n",
              "              title=\"Convert this dataframe to an interactive table.\"\n",
              "              style=\"display:none;\">\n",
              "        \n",
              "  <svg xmlns=\"http://www.w3.org/2000/svg\" height=\"24px\"viewBox=\"0 0 24 24\"\n",
              "       width=\"24px\">\n",
              "    <path d=\"M0 0h24v24H0V0z\" fill=\"none\"/>\n",
              "    <path d=\"M18.56 5.44l.94 2.06.94-2.06 2.06-.94-2.06-.94-.94-2.06-.94 2.06-2.06.94zm-11 1L8.5 8.5l.94-2.06 2.06-.94-2.06-.94L8.5 2.5l-.94 2.06-2.06.94zm10 10l.94 2.06.94-2.06 2.06-.94-2.06-.94-.94-2.06-.94 2.06-2.06.94z\"/><path d=\"M17.41 7.96l-1.37-1.37c-.4-.4-.92-.59-1.43-.59-.52 0-1.04.2-1.43.59L10.3 9.45l-7.72 7.72c-.78.78-.78 2.05 0 2.83L4 21.41c.39.39.9.59 1.41.59.51 0 1.02-.2 1.41-.59l7.78-7.78 2.81-2.81c.8-.78.8-2.07 0-2.86zM5.41 20L4 18.59l7.72-7.72 1.47 1.35L5.41 20z\"/>\n",
              "  </svg>\n",
              "      </button>\n",
              "      \n",
              "  <style>\n",
              "    .colab-df-container {\n",
              "      display:flex;\n",
              "      flex-wrap:wrap;\n",
              "      gap: 12px;\n",
              "    }\n",
              "\n",
              "    .colab-df-convert {\n",
              "      background-color: #E8F0FE;\n",
              "      border: none;\n",
              "      border-radius: 50%;\n",
              "      cursor: pointer;\n",
              "      display: none;\n",
              "      fill: #1967D2;\n",
              "      height: 32px;\n",
              "      padding: 0 0 0 0;\n",
              "      width: 32px;\n",
              "    }\n",
              "\n",
              "    .colab-df-convert:hover {\n",
              "      background-color: #E2EBFA;\n",
              "      box-shadow: 0px 1px 2px rgba(60, 64, 67, 0.3), 0px 1px 3px 1px rgba(60, 64, 67, 0.15);\n",
              "      fill: #174EA6;\n",
              "    }\n",
              "\n",
              "    [theme=dark] .colab-df-convert {\n",
              "      background-color: #3B4455;\n",
              "      fill: #D2E3FC;\n",
              "    }\n",
              "\n",
              "    [theme=dark] .colab-df-convert:hover {\n",
              "      background-color: #434B5C;\n",
              "      box-shadow: 0px 1px 3px 1px rgba(0, 0, 0, 0.15);\n",
              "      filter: drop-shadow(0px 1px 2px rgba(0, 0, 0, 0.3));\n",
              "      fill: #FFFFFF;\n",
              "    }\n",
              "  </style>\n",
              "\n",
              "      <script>\n",
              "        const buttonEl =\n",
              "          document.querySelector('#df-6f333c84-81f8-43b9-b1c6-4c44492ac0a9 button.colab-df-convert');\n",
              "        buttonEl.style.display =\n",
              "          google.colab.kernel.accessAllowed ? 'block' : 'none';\n",
              "\n",
              "        async function convertToInteractive(key) {\n",
              "          const element = document.querySelector('#df-6f333c84-81f8-43b9-b1c6-4c44492ac0a9');\n",
              "          const dataTable =\n",
              "            await google.colab.kernel.invokeFunction('convertToInteractive',\n",
              "                                                     [key], {});\n",
              "          if (!dataTable) return;\n",
              "\n",
              "          const docLinkHtml = 'Like what you see? Visit the ' +\n",
              "            '<a target=\"_blank\" href=https://colab.research.google.com/notebooks/data_table.ipynb>data table notebook</a>'\n",
              "            + ' to learn more about interactive tables.';\n",
              "          element.innerHTML = '';\n",
              "          dataTable['output_type'] = 'display_data';\n",
              "          await google.colab.output.renderOutput(dataTable, element);\n",
              "          const docLink = document.createElement('div');\n",
              "          docLink.innerHTML = docLinkHtml;\n",
              "          element.appendChild(docLink);\n",
              "        }\n",
              "      </script>\n",
              "    </div>\n",
              "  </div>\n",
              "  "
            ],
            "text/plain": [
              "   PassengerId  Survived  Pclass  ...     Fare Cabin  Embarked\n",
              "0            1         0       3  ...   7.2500   NaN         S\n",
              "1            2         1       1  ...  71.2833   C85         C\n",
              "2            3         1       3  ...   7.9250   NaN         S\n",
              "3            4         1       1  ...  53.1000  C123         S\n",
              "4            5         0       3  ...   8.0500   NaN         S\n",
              "\n",
              "[5 rows x 12 columns]"
            ]
          },
          "metadata": {},
          "execution_count": 4
        }
      ]
    },
    {
      "cell_type": "code",
      "source": [
        "tips_df = load_dataset('tips')"
      ],
      "metadata": {
        "id": "RGAbC9u5rJXk"
      },
      "execution_count": null,
      "outputs": []
    },
    {
      "cell_type": "code",
      "source": [
        "tips_df.head()"
      ],
      "metadata": {
        "colab": {
          "base_uri": "https://localhost:8080/",
          "height": 206
        },
        "id": "HOMAor7FrQu1",
        "outputId": "1c2d8f59-605d-4226-e1b1-9be6a341051a"
      },
      "execution_count": null,
      "outputs": [
        {
          "output_type": "execute_result",
          "data": {
            "text/html": [
              "\n",
              "  <div id=\"df-065484e8-07e2-4898-a9f0-905aa0facabf\">\n",
              "    <div class=\"colab-df-container\">\n",
              "      <div>\n",
              "<style scoped>\n",
              "    .dataframe tbody tr th:only-of-type {\n",
              "        vertical-align: middle;\n",
              "    }\n",
              "\n",
              "    .dataframe tbody tr th {\n",
              "        vertical-align: top;\n",
              "    }\n",
              "\n",
              "    .dataframe thead th {\n",
              "        text-align: right;\n",
              "    }\n",
              "</style>\n",
              "<table border=\"1\" class=\"dataframe\">\n",
              "  <thead>\n",
              "    <tr style=\"text-align: right;\">\n",
              "      <th></th>\n",
              "      <th>total_bill</th>\n",
              "      <th>tip</th>\n",
              "      <th>sex</th>\n",
              "      <th>smoker</th>\n",
              "      <th>day</th>\n",
              "      <th>time</th>\n",
              "      <th>size</th>\n",
              "    </tr>\n",
              "  </thead>\n",
              "  <tbody>\n",
              "    <tr>\n",
              "      <th>0</th>\n",
              "      <td>16.99</td>\n",
              "      <td>1.01</td>\n",
              "      <td>Female</td>\n",
              "      <td>No</td>\n",
              "      <td>Sun</td>\n",
              "      <td>Dinner</td>\n",
              "      <td>2</td>\n",
              "    </tr>\n",
              "    <tr>\n",
              "      <th>1</th>\n",
              "      <td>10.34</td>\n",
              "      <td>1.66</td>\n",
              "      <td>Male</td>\n",
              "      <td>No</td>\n",
              "      <td>Sun</td>\n",
              "      <td>Dinner</td>\n",
              "      <td>3</td>\n",
              "    </tr>\n",
              "    <tr>\n",
              "      <th>2</th>\n",
              "      <td>21.01</td>\n",
              "      <td>3.50</td>\n",
              "      <td>Male</td>\n",
              "      <td>No</td>\n",
              "      <td>Sun</td>\n",
              "      <td>Dinner</td>\n",
              "      <td>3</td>\n",
              "    </tr>\n",
              "    <tr>\n",
              "      <th>3</th>\n",
              "      <td>23.68</td>\n",
              "      <td>3.31</td>\n",
              "      <td>Male</td>\n",
              "      <td>No</td>\n",
              "      <td>Sun</td>\n",
              "      <td>Dinner</td>\n",
              "      <td>2</td>\n",
              "    </tr>\n",
              "    <tr>\n",
              "      <th>4</th>\n",
              "      <td>24.59</td>\n",
              "      <td>3.61</td>\n",
              "      <td>Female</td>\n",
              "      <td>No</td>\n",
              "      <td>Sun</td>\n",
              "      <td>Dinner</td>\n",
              "      <td>4</td>\n",
              "    </tr>\n",
              "  </tbody>\n",
              "</table>\n",
              "</div>\n",
              "      <button class=\"colab-df-convert\" onclick=\"convertToInteractive('df-065484e8-07e2-4898-a9f0-905aa0facabf')\"\n",
              "              title=\"Convert this dataframe to an interactive table.\"\n",
              "              style=\"display:none;\">\n",
              "        \n",
              "  <svg xmlns=\"http://www.w3.org/2000/svg\" height=\"24px\"viewBox=\"0 0 24 24\"\n",
              "       width=\"24px\">\n",
              "    <path d=\"M0 0h24v24H0V0z\" fill=\"none\"/>\n",
              "    <path d=\"M18.56 5.44l.94 2.06.94-2.06 2.06-.94-2.06-.94-.94-2.06-.94 2.06-2.06.94zm-11 1L8.5 8.5l.94-2.06 2.06-.94-2.06-.94L8.5 2.5l-.94 2.06-2.06.94zm10 10l.94 2.06.94-2.06 2.06-.94-2.06-.94-.94-2.06-.94 2.06-2.06.94z\"/><path d=\"M17.41 7.96l-1.37-1.37c-.4-.4-.92-.59-1.43-.59-.52 0-1.04.2-1.43.59L10.3 9.45l-7.72 7.72c-.78.78-.78 2.05 0 2.83L4 21.41c.39.39.9.59 1.41.59.51 0 1.02-.2 1.41-.59l7.78-7.78 2.81-2.81c.8-.78.8-2.07 0-2.86zM5.41 20L4 18.59l7.72-7.72 1.47 1.35L5.41 20z\"/>\n",
              "  </svg>\n",
              "      </button>\n",
              "      \n",
              "  <style>\n",
              "    .colab-df-container {\n",
              "      display:flex;\n",
              "      flex-wrap:wrap;\n",
              "      gap: 12px;\n",
              "    }\n",
              "\n",
              "    .colab-df-convert {\n",
              "      background-color: #E8F0FE;\n",
              "      border: none;\n",
              "      border-radius: 50%;\n",
              "      cursor: pointer;\n",
              "      display: none;\n",
              "      fill: #1967D2;\n",
              "      height: 32px;\n",
              "      padding: 0 0 0 0;\n",
              "      width: 32px;\n",
              "    }\n",
              "\n",
              "    .colab-df-convert:hover {\n",
              "      background-color: #E2EBFA;\n",
              "      box-shadow: 0px 1px 2px rgba(60, 64, 67, 0.3), 0px 1px 3px 1px rgba(60, 64, 67, 0.15);\n",
              "      fill: #174EA6;\n",
              "    }\n",
              "\n",
              "    [theme=dark] .colab-df-convert {\n",
              "      background-color: #3B4455;\n",
              "      fill: #D2E3FC;\n",
              "    }\n",
              "\n",
              "    [theme=dark] .colab-df-convert:hover {\n",
              "      background-color: #434B5C;\n",
              "      box-shadow: 0px 1px 3px 1px rgba(0, 0, 0, 0.15);\n",
              "      filter: drop-shadow(0px 1px 2px rgba(0, 0, 0, 0.3));\n",
              "      fill: #FFFFFF;\n",
              "    }\n",
              "  </style>\n",
              "\n",
              "      <script>\n",
              "        const buttonEl =\n",
              "          document.querySelector('#df-065484e8-07e2-4898-a9f0-905aa0facabf button.colab-df-convert');\n",
              "        buttonEl.style.display =\n",
              "          google.colab.kernel.accessAllowed ? 'block' : 'none';\n",
              "\n",
              "        async function convertToInteractive(key) {\n",
              "          const element = document.querySelector('#df-065484e8-07e2-4898-a9f0-905aa0facabf');\n",
              "          const dataTable =\n",
              "            await google.colab.kernel.invokeFunction('convertToInteractive',\n",
              "                                                     [key], {});\n",
              "          if (!dataTable) return;\n",
              "\n",
              "          const docLinkHtml = 'Like what you see? Visit the ' +\n",
              "            '<a target=\"_blank\" href=https://colab.research.google.com/notebooks/data_table.ipynb>data table notebook</a>'\n",
              "            + ' to learn more about interactive tables.';\n",
              "          element.innerHTML = '';\n",
              "          dataTable['output_type'] = 'display_data';\n",
              "          await google.colab.output.renderOutput(dataTable, element);\n",
              "          const docLink = document.createElement('div');\n",
              "          docLink.innerHTML = docLinkHtml;\n",
              "          element.appendChild(docLink);\n",
              "        }\n",
              "      </script>\n",
              "    </div>\n",
              "  </div>\n",
              "  "
            ],
            "text/plain": [
              "   total_bill   tip     sex smoker  day    time  size\n",
              "0       16.99  1.01  Female     No  Sun  Dinner     2\n",
              "1       10.34  1.66    Male     No  Sun  Dinner     3\n",
              "2       21.01  3.50    Male     No  Sun  Dinner     3\n",
              "3       23.68  3.31    Male     No  Sun  Dinner     2\n",
              "4       24.59  3.61  Female     No  Sun  Dinner     4"
            ]
          },
          "metadata": {},
          "execution_count": 6
        }
      ]
    },
    {
      "cell_type": "markdown",
      "source": [
        "## **Univariate Analysis**\n",
        "\n",
        "\n",
        "Univariate analysis is the simplest form of analysis where we explore a single variable. Univariate analysis is performed to describe the data in a better way. we perform Univariate analysis of Numerical and categorical variables differently because plotting uses different plots."
      ],
      "metadata": {
        "id": "LorvjB-Drk56"
      }
    },
    {
      "cell_type": "markdown",
      "source": [
        "## **Categorical Data**\n",
        "\n",
        "A variable that has text-based information is referred to as categorical variables."
      ],
      "metadata": {
        "id": "I5ltKEAEr1wT"
      }
    },
    {
      "cell_type": "markdown",
      "source": [
        "### **1) CountPlot**\n",
        "\n",
        "- Countplot is basically a count of frequency plot in form of a bar graph. It plots the count of each category in a separate bar.\n",
        "\n",
        "- A count plot can be thought of as a histogram across a categorical, instead of quantitative, variable."
      ],
      "metadata": {
        "id": "4F4w66SlsBzS"
      }
    },
    {
      "cell_type": "code",
      "source": [
        "titanic_df['Survived'].value_counts()"
      ],
      "metadata": {
        "colab": {
          "base_uri": "https://localhost:8080/"
        },
        "id": "iSIwmCGBrS3k",
        "outputId": "4529fc13-42c0-4dcc-e4ec-7db556be61d8"
      },
      "execution_count": null,
      "outputs": [
        {
          "output_type": "execute_result",
          "data": {
            "text/plain": [
              "0    549\n",
              "1    342\n",
              "Name: Survived, dtype: int64"
            ]
          },
          "metadata": {},
          "execution_count": 7
        }
      ]
    },
    {
      "cell_type": "code",
      "source": [
        "ax = sns.countplot(x='Survived',data=titanic_df)"
      ],
      "metadata": {
        "colab": {
          "base_uri": "https://localhost:8080/",
          "height": 279
        },
        "id": "HL2pW3iFsSq3",
        "outputId": "7bcb17f0-e289-49fa-aa4d-fb434b7c168b"
      },
      "execution_count": null,
      "outputs": [
        {
          "output_type": "display_data",
          "data": {
            "image/png": "[encoded data removed]",
            "text/plain": [
              "<Figure size 432x288 with 1 Axes>"
            ]
          },
          "metadata": {
            "needs_background": "light"
          }
        }
      ]
    },
    {
      "cell_type": "code",
      "source": [
        "titanic_df.columns"
      ],
      "metadata": {
        "colab": {
          "base_uri": "https://localhost:8080/"
        },
        "id": "mXAEy-DGtHOF",
        "outputId": "572c3b1c-c1f9-49f2-84ee-720ca0f7fba2"
      },
      "execution_count": null,
      "outputs": [
        {
          "output_type": "execute_result",
          "data": {
            "text/plain": [
              "Index(['PassengerId', 'Survived', 'Pclass', 'Name', 'Sex', 'Age', 'SibSp',\n",
              "       'Parch', 'Ticket', 'Fare', 'Cabin', 'Embarked'],\n",
              "      dtype='object')"
            ]
          },
          "metadata": {},
          "execution_count": 9
        }
      ]
    },
    {
      "cell_type": "code",
      "source": [
        "ax = sns.countplot(x='Pclass',data=titanic_df)"
      ],
      "metadata": {
        "colab": {
          "base_uri": "https://localhost:8080/",
          "height": 279
        },
        "id": "5tfQMzX7tLRi",
        "outputId": "70d7bc7c-cc42-468d-ffdc-0390156e7cbd"
      },
      "execution_count": null,
      "outputs": [
        {
          "output_type": "display_data",
          "data": {
            "image/png": "[encoded data removed]",
            "text/plain": [
              "<Figure size 432x288 with 1 Axes>"
            ]
          },
          "metadata": {
            "needs_background": "light"
          }
        }
      ]
    },
    {
      "cell_type": "code",
      "source": [
        "ax = sns.countplot(x='Pclass',data=titanic_df,hue=\"Sex\")"
      ],
      "metadata": {
        "colab": {
          "base_uri": "https://localhost:8080/",
          "height": 279
        },
        "id": "BggPz9b3tTXI",
        "outputId": "9c6c50ef-023e-4c17-9656-24684ba1ae61"
      },
      "execution_count": null,
      "outputs": [
        {
          "output_type": "display_data",
          "data": {
            "image/png": "[encoded data removed]",
            "text/plain": [
              "<Figure size 432x288 with 1 Axes>"
            ]
          },
          "metadata": {
            "needs_background": "light"
          }
        }
      ]
    },
    {
      "cell_type": "code",
      "source": [
        "ax = sns.countplot(x='Sex',data=titanic_df)"
      ],
      "metadata": {
        "colab": {
          "base_uri": "https://localhost:8080/",
          "height": 281
        },
        "id": "PBZZLxTQtjqS",
        "outputId": "2e256d9e-5c2d-4223-b5e1-bad11973a5ac"
      },
      "execution_count": null,
      "outputs": [
        {
          "output_type": "display_data",
          "data": {
            "image/png": "[encoded data removed]",
            "text/plain": [
              "<Figure size 432x288 with 1 Axes>"
            ]
          },
          "metadata": {
            "needs_background": "light"
          }
        }
      ]
    },
    {
      "cell_type": "code",
      "source": [
        "ax = sns.countplot(x='Survived',data=titanic_df,hue=\"Sex\")"
      ],
      "metadata": {
        "colab": {
          "base_uri": "https://localhost:8080/",
          "height": 279
        },
        "id": "auGO3jvbtyOG",
        "outputId": "2cd8e517-2b59-48ee-b54c-ef1fa83b0259"
      },
      "execution_count": null,
      "outputs": [
        {
          "output_type": "display_data",
          "data": {
            "image/png": "[encoded data removed]",
            "text/plain": [
              "<Figure size 432x288 with 1 Axes>"
            ]
          },
          "metadata": {
            "needs_background": "light"
          }
        }
      ]
    },
    {
      "cell_type": "markdown",
      "source": [
        "### **2) Pie Chart**\n",
        "\n",
        "\n",
        "The pie chart is also the same as the countplot, only gives you additional information about the percentage presence of each category in data means which category is getting how much weightage in data."
      ],
      "metadata": {
        "id": "55E95Yn_uPlX"
      }
    },
    {
      "cell_type": "code",
      "source": [
        "val_df = titanic_df['Survived'].value_counts()"
      ],
      "metadata": {
        "id": "rEPkriDzt34V"
      },
      "execution_count": null,
      "outputs": []
    },
    {
      "cell_type": "code",
      "source": [
        "plot = val_df.plot.pie()"
      ],
      "metadata": {
        "colab": {
          "base_uri": "https://localhost:8080/",
          "height": 248
        },
        "id": "J9AnrAhnudky",
        "outputId": "e30914dc-1758-4cb1-992a-1ab4db747a0a"
      },
      "execution_count": null,
      "outputs": [
        {
          "output_type": "display_data",
          "data": {
            "image/png": "[encoded data removed]",
            "text/plain": [
              "<Figure size 432x288 with 1 Axes>"
            ]
          },
          "metadata": {}
        }
      ]
    },
    {
      "cell_type": "code",
      "source": [
        "gender_df = titanic_df['Sex'].value_counts()"
      ],
      "metadata": {
        "id": "J_QMHSWWu1Uk"
      },
      "execution_count": null,
      "outputs": []
    },
    {
      "cell_type": "code",
      "source": [
        "gender_df"
      ],
      "metadata": {
        "colab": {
          "base_uri": "https://localhost:8080/"
        },
        "id": "lb3Iif-1vJyk",
        "outputId": "0f1a8797-9d4f-4d9c-ba89-e53efb4d36a5"
      },
      "execution_count": null,
      "outputs": [
        {
          "output_type": "execute_result",
          "data": {
            "text/plain": [
              "male      577\n",
              "female    314\n",
              "Name: Sex, dtype: int64"
            ]
          },
          "metadata": {},
          "execution_count": 17
        }
      ]
    },
    {
      "cell_type": "code",
      "source": [
        "plot = gender_df.plot.pie()"
      ],
      "metadata": {
        "colab": {
          "base_uri": "https://localhost:8080/",
          "height": 248
        },
        "id": "LdXKMeyFvLMO",
        "outputId": "9b65b727-e690-4648-f60b-cd9d2339cd05"
      },
      "execution_count": null,
      "outputs": [
        {
          "output_type": "display_data",
          "data": {
            "image/png": "[encoded data removed]",
            "text/plain": [
              "<Figure size 432x288 with 1 Axes>"
            ]
          },
          "metadata": {}
        }
      ]
    },
    {
      "cell_type": "code",
      "source": [
        "val_df"
      ],
      "metadata": {
        "colab": {
          "base_uri": "https://localhost:8080/"
        },
        "id": "jGcK7WKAvPTf",
        "outputId": "c1dad189-38fa-4f4d-85a5-6f4a36f1739f"
      },
      "execution_count": null,
      "outputs": [
        {
          "output_type": "execute_result",
          "data": {
            "text/plain": [
              "0    549\n",
              "1    342\n",
              "Name: Survived, dtype: int64"
            ]
          },
          "metadata": {},
          "execution_count": 19
        }
      ]
    },
    {
      "cell_type": "code",
      "source": [
        "plot = titanic_df['Pclass'].value_counts().plot.pie()"
      ],
      "metadata": {
        "colab": {
          "base_uri": "https://localhost:8080/",
          "height": 248
        },
        "id": "GZ4y3Qt6viPG",
        "outputId": "7781b6c1-5f1a-4dcd-ef2e-32b48719eadb"
      },
      "execution_count": null,
      "outputs": [
        {
          "output_type": "display_data",
          "data": {
            "image/png": "[encoded data removed]",
            "text/plain": [
              "<Figure size 432x288 with 1 Axes>"
            ]
          },
          "metadata": {}
        }
      ]
    },
    {
      "cell_type": "markdown",
      "source": [
        "## Numerical Data\n",
        "\n",
        "Analyzing Numerical data is important because understanding the distribution of variables helps to further process the data. Most of the time you will find much inconsistency with numerical data so do explore numerical variables.\n",
        "\n",
        "### **1) Histogram**\n",
        "\n",
        "- A histogram is a value distribution plot of numerical columns. It basically creates bins in various ranges in values and plots it where we can visualize how values are distributed. We can have a look where more values lie like in positive, negative, or at the center(mean).\n",
        "\n",
        "- A histogram is a classic visualization tool that represents the distribution of one or more variables by counting the number of observations that fall within disrete bins."
      ],
      "metadata": {
        "id": "01tHMUnMwQjM"
      }
    },
    {
      "cell_type": "code",
      "source": [
        "tips_df.head()"
      ],
      "metadata": {
        "colab": {
          "base_uri": "https://localhost:8080/",
          "height": 206
        },
        "id": "FykYFyycvr59",
        "outputId": "a579875c-8c80-493e-8473-a353498657c7"
      },
      "execution_count": null,
      "outputs": [
        {
          "output_type": "execute_result",
          "data": {
            "text/html": [
              "\n",
              "  <div id=\"df-e564bbdb-45e2-4bbb-bf74-2dc6ce92195d\">\n",
              "    <div class=\"colab-df-container\">\n",
              "      <div>\n",
              "<style scoped>\n",
              "    .dataframe tbody tr th:only-of-type {\n",
              "        vertical-align: middle;\n",
              "    }\n",
              "\n",
              "    .dataframe tbody tr th {\n",
              "        vertical-align: top;\n",
              "    }\n",
              "\n",
              "    .dataframe thead th {\n",
              "        text-align: right;\n",
              "    }\n",
              "</style>\n",
              "<table border=\"1\" class=\"dataframe\">\n",
              "  <thead>\n",
              "    <tr style=\"text-align: right;\">\n",
              "      <th></th>\n",
              "      <th>total_bill</th>\n",
              "      <th>tip</th>\n",
              "      <th>sex</th>\n",
              "      <th>smoker</th>\n",
              "      <th>day</th>\n",
              "      <th>time</th>\n",
              "      <th>size</th>\n",
              "    </tr>\n",
              "  </thead>\n",
              "  <tbody>\n",
              "    <tr>\n",
              "      <th>0</th>\n",
              "      <td>16.99</td>\n",
              "      <td>1.01</td>\n",
              "      <td>Female</td>\n",
              "      <td>No</td>\n",
              "      <td>Sun</td>\n",
              "      <td>Dinner</td>\n",
              "      <td>2</td>\n",
              "    </tr>\n",
              "    <tr>\n",
              "      <th>1</th>\n",
              "      <td>10.34</td>\n",
              "      <td>1.66</td>\n",
              "      <td>Male</td>\n",
              "      <td>No</td>\n",
              "      <td>Sun</td>\n",
              "      <td>Dinner</td>\n",
              "      <td>3</td>\n",
              "    </tr>\n",
              "    <tr>\n",
              "      <th>2</th>\n",
              "      <td>21.01</td>\n",
              "      <td>3.50</td>\n",
              "      <td>Male</td>\n",
              "      <td>No</td>\n",
              "      <td>Sun</td>\n",
              "      <td>Dinner</td>\n",
              "      <td>3</td>\n",
              "    </tr>\n",
              "    <tr>\n",
              "      <th>3</th>\n",
              "      <td>23.68</td>\n",
              "      <td>3.31</td>\n",
              "      <td>Male</td>\n",
              "      <td>No</td>\n",
              "      <td>Sun</td>\n",
              "      <td>Dinner</td>\n",
              "      <td>2</td>\n",
              "    </tr>\n",
              "    <tr>\n",
              "      <th>4</th>\n",
              "      <td>24.59</td>\n",
              "      <td>3.61</td>\n",
              "      <td>Female</td>\n",
              "      <td>No</td>\n",
              "      <td>Sun</td>\n",
              "      <td>Dinner</td>\n",
              "      <td>4</td>\n",
              "    </tr>\n",
              "  </tbody>\n",
              "</table>\n",
              "</div>\n",
              "      <button class=\"colab-df-convert\" onclick=\"convertToInteractive('df-e564bbdb-45e2-4bbb-bf74-2dc6ce92195d')\"\n",
              "              title=\"Convert this dataframe to an interactive table.\"\n",
              "              style=\"display:none;\">\n",
              "        \n",
              "  <svg xmlns=\"http://www.w3.org/2000/svg\" height=\"24px\"viewBox=\"0 0 24 24\"\n",
              "       width=\"24px\">\n",
              "    <path d=\"M0 0h24v24H0V0z\" fill=\"none\"/>\n",
              "    <path d=\"M18.56 5.44l.94 2.06.94-2.06 2.06-.94-2.06-.94-.94-2.06-.94 2.06-2.06.94zm-11 1L8.5 8.5l.94-2.06 2.06-.94-2.06-.94L8.5 2.5l-.94 2.06-2.06.94zm10 10l.94 2.06.94-2.06 2.06-.94-2.06-.94-.94-2.06-.94 2.06-2.06.94z\"/><path d=\"M17.41 7.96l-1.37-1.37c-.4-.4-.92-.59-1.43-.59-.52 0-1.04.2-1.43.59L10.3 9.45l-7.72 7.72c-.78.78-.78 2.05 0 2.83L4 21.41c.39.39.9.59 1.41.59.51 0 1.02-.2 1.41-.59l7.78-7.78 2.81-2.81c.8-.78.8-2.07 0-2.86zM5.41 20L4 18.59l7.72-7.72 1.47 1.35L5.41 20z\"/>\n",
              "  </svg>\n",
              "      </button>\n",
              "      \n",
              "  <style>\n",
              "    .colab-df-container {\n",
              "      display:flex;\n",
              "      flex-wrap:wrap;\n",
              "      gap: 12px;\n",
              "    }\n",
              "\n",
              "    .colab-df-convert {\n",
              "      background-color: #E8F0FE;\n",
              "      border: none;\n",
              "      border-radius: 50%;\n",
              "      cursor: pointer;\n",
              "      display: none;\n",
              "      fill: #1967D2;\n",
              "      height: 32px;\n",
              "      padding: 0 0 0 0;\n",
              "      width: 32px;\n",
              "    }\n",
              "\n",
              "    .colab-df-convert:hover {\n",
              "      background-color: #E2EBFA;\n",
              "      box-shadow: 0px 1px 2px rgba(60, 64, 67, 0.3), 0px 1px 3px 1px rgba(60, 64, 67, 0.15);\n",
              "      fill: #174EA6;\n",
              "    }\n",
              "\n",
              "    [theme=dark] .colab-df-convert {\n",
              "      background-color: #3B4455;\n",
              "      fill: #D2E3FC;\n",
              "    }\n",
              "\n",
              "    [theme=dark] .colab-df-convert:hover {\n",
              "      background-color: #434B5C;\n",
              "      box-shadow: 0px 1px 3px 1px rgba(0, 0, 0, 0.15);\n",
              "      filter: drop-shadow(0px 1px 2px rgba(0, 0, 0, 0.3));\n",
              "      fill: #FFFFFF;\n",
              "    }\n",
              "  </style>\n",
              "\n",
              "      <script>\n",
              "        const buttonEl =\n",
              "          document.querySelector('#df-e564bbdb-45e2-4bbb-bf74-2dc6ce92195d button.colab-df-convert');\n",
              "        buttonEl.style.display =\n",
              "          google.colab.kernel.accessAllowed ? 'block' : 'none';\n",
              "\n",
              "        async function convertToInteractive(key) {\n",
              "          const element = document.querySelector('#df-e564bbdb-45e2-4bbb-bf74-2dc6ce92195d');\n",
              "          const dataTable =\n",
              "            await google.colab.kernel.invokeFunction('convertToInteractive',\n",
              "                                                     [key], {});\n",
              "          if (!dataTable) return;\n",
              "\n",
              "          const docLinkHtml = 'Like what you see? Visit the ' +\n",
              "            '<a target=\"_blank\" href=https://colab.research.google.com/notebooks/data_table.ipynb>data table notebook</a>'\n",
              "            + ' to learn more about interactive tables.';\n",
              "          element.innerHTML = '';\n",
              "          dataTable['output_type'] = 'display_data';\n",
              "          await google.colab.output.renderOutput(dataTable, element);\n",
              "          const docLink = document.createElement('div');\n",
              "          docLink.innerHTML = docLinkHtml;\n",
              "          element.appendChild(docLink);\n",
              "        }\n",
              "      </script>\n",
              "    </div>\n",
              "  </div>\n",
              "  "
            ],
            "text/plain": [
              "   total_bill   tip     sex smoker  day    time  size\n",
              "0       16.99  1.01  Female     No  Sun  Dinner     2\n",
              "1       10.34  1.66    Male     No  Sun  Dinner     3\n",
              "2       21.01  3.50    Male     No  Sun  Dinner     3\n",
              "3       23.68  3.31    Male     No  Sun  Dinner     2\n",
              "4       24.59  3.61  Female     No  Sun  Dinner     4"
            ]
          },
          "metadata": {},
          "execution_count": 21
        }
      ]
    },
    {
      "cell_type": "code",
      "source": [
        "sns.histplot(x='size',data=tips_df,bins=4)\n",
        "plt.show()"
      ],
      "metadata": {
        "colab": {
          "base_uri": "https://localhost:8080/",
          "height": 279
        },
        "id": "yGrMw5WyxGgC",
        "outputId": "9534eae2-b683-43f0-aa52-aa5f38fa10a4"
      },
      "execution_count": null,
      "outputs": [
        {
          "output_type": "display_data",
          "data": {
            "image/png": "[encoded data removed]",
            "text/plain": [
              "<Figure size 432x288 with 1 Axes>"
            ]
          },
          "metadata": {
            "needs_background": "light"
          }
        }
      ]
    },
    {
      "cell_type": "code",
      "source": [
        "sns.histplot(x=\"Age\",data=titanic_df,bins=5)\n",
        "plt.show()"
      ],
      "metadata": {
        "colab": {
          "base_uri": "https://localhost:8080/",
          "height": 279
        },
        "id": "sUHqA42sxZ5P",
        "outputId": "4b77c3be-2701-4f24-dea5-d05aff8978de"
      },
      "execution_count": null,
      "outputs": [
        {
          "output_type": "display_data",
          "data": {
            "image/png": "[encoded data removed]",
            "text/plain": [
              "<Figure size 432x288 with 1 Axes>"
            ]
          },
          "metadata": {
            "needs_background": "light"
          }
        }
      ]
    },
    {
      "cell_type": "markdown",
      "source": [
        "### **2)Boxplot**\n",
        "\n",
        "A box plot (or box-and-whisker plot) shows the distribution of quantitative data in a way that facilitates comparisons between variables or across levels of a categorical variable. The box shows the quartiles of the dataset while the whiskers extend to show the rest of the distribution, except for points that are determined to be “outliers” using a method that is a function of the inter-quartile range.\n",
        "\n",
        "\n",
        "Boxplot is a very interesting plot that basically plots a 5 number summary. to get 5 number summary some terms we need to describe.\n",
        "\n",
        "\n",
        "\n",
        "- Median – Middle value in series after sorting\n",
        "- Percentile – Gives any number which is number of values present before this percentile like for example 50 under 25th percentile so it explains total of 50 values are there below 25th percentile\n",
        "- Minimum and Maximum – These are not minimum and maximum values, rather they describe the lower and upper boundary of standard deviation which is calculated using Interquartile range(IQR)."
      ],
      "metadata": {
        "id": "hl4ZuQ_TyDto"
      }
    },
    {
      "cell_type": "code",
      "source": [
        "ax = sns.boxplot(x='tip',data=tips_df)"
      ],
      "metadata": {
        "colab": {
          "base_uri": "https://localhost:8080/",
          "height": 279
        },
        "id": "8vCoTrsRxuz8",
        "outputId": "d91363f0-885e-4ad2-a521-f7b2eade7170"
      },
      "execution_count": null,
      "outputs": [
        {
          "output_type": "display_data",
          "data": {
            "image/png": "[encoded data removed]",
            "text/plain": [
              "<Figure size 432x288 with 1 Axes>"
            ]
          },
          "metadata": {
            "needs_background": "light"
          }
        }
      ]
    },
    {
      "cell_type": "code",
      "source": [
        "ax = sns.boxplot(x='total_bill',data=tips_df)"
      ],
      "metadata": {
        "colab": {
          "base_uri": "https://localhost:8080/",
          "height": 280
        },
        "id": "XIoSYyFtypRQ",
        "outputId": "42761331-96e0-457e-f885-93c8ba421449"
      },
      "execution_count": null,
      "outputs": [
        {
          "output_type": "display_data",
          "data": {
            "image/png": "[encoded data removed]",
            "text/plain": [
              "<Figure size 432x288 with 1 Axes>"
            ]
          },
          "metadata": {
            "needs_background": "light"
          }
        }
      ]
    },
    {
      "cell_type": "code",
      "source": [
        "titanic_df.head()"
      ],
      "metadata": {
        "colab": {
          "base_uri": "https://localhost:8080/",
          "height": 250
        },
        "id": "ihePJQnDywmi",
        "outputId": "37aa06c1-f44b-4956-ad0e-25e9514a56ba"
      },
      "execution_count": null,
      "outputs": [
        {
          "output_type": "execute_result",
          "data": {
            "text/html": [
              "\n",
              "  <div id=\"df-4e2c07c2-26fb-4251-bbcb-85c3f863b373\">\n",
              "    <div class=\"colab-df-container\">\n",
              "      <div>\n",
              "<style scoped>\n",
              "    .dataframe tbody tr th:only-of-type {\n",
              "        vertical-align: middle;\n",
              "    }\n",
              "\n",
              "    .dataframe tbody tr th {\n",
              "        vertical-align: top;\n",
              "    }\n",
              "\n",
              "    .dataframe thead th {\n",
              "        text-align: right;\n",
              "    }\n",
              "</style>\n",
              "<table border=\"1\" class=\"dataframe\">\n",
              "  <thead>\n",
              "    <tr style=\"text-align: right;\">\n",
              "      <th></th>\n",
              "      <th>PassengerId</th>\n",
              "      <th>Survived</th>\n",
              "      <th>Pclass</th>\n",
              "      <th>Name</th>\n",
              "      <th>Sex</th>\n",
              "      <th>Age</th>\n",
              "      <th>SibSp</th>\n",
              "      <th>Parch</th>\n",
              "      <th>Ticket</th>\n",
              "      <th>Fare</th>\n",
              "      <th>Cabin</th>\n",
              "      <th>Embarked</th>\n",
              "    </tr>\n",
              "  </thead>\n",
              "  <tbody>\n",
              "    <tr>\n",
              "      <th>0</th>\n",
              "      <td>1</td>\n",
              "      <td>0</td>\n",
              "      <td>3</td>\n",
              "      <td>Braund, Mr. Owen Harris</td>\n",
              "      <td>male</td>\n",
              "      <td>22.0</td>\n",
              "      <td>1</td>\n",
              "      <td>0</td>\n",
              "      <td>A/5 21171</td>\n",
              "      <td>7.2500</td>\n",
              "      <td>NaN</td>\n",
              "      <td>S</td>\n",
              "    </tr>\n",
              "    <tr>\n",
              "      <th>1</th>\n",
              "      <td>2</td>\n",
              "      <td>1</td>\n",
              "      <td>1</td>\n",
              "      <td>Cumings, Mrs. John Bradley (Florence Briggs Th...</td>\n",
              "      <td>female</td>\n",
              "      <td>38.0</td>\n",
              "      <td>1</td>\n",
              "      <td>0</td>\n",
              "      <td>PC 17599</td>\n",
              "      <td>71.2833</td>\n",
              "      <td>C85</td>\n",
              "      <td>C</td>\n",
              "    </tr>\n",
              "    <tr>\n",
              "      <th>2</th>\n",
              "      <td>3</td>\n",
              "      <td>1</td>\n",
              "      <td>3</td>\n",
              "      <td>Heikkinen, Miss. Laina</td>\n",
              "      <td>female</td>\n",
              "      <td>26.0</td>\n",
              "      <td>0</td>\n",
              "      <td>0</td>\n",
              "      <td>STON/O2. 3101282</td>\n",
              "      <td>7.9250</td>\n",
              "      <td>NaN</td>\n",
              "      <td>S</td>\n",
              "    </tr>\n",
              "    <tr>\n",
              "      <th>3</th>\n",
              "      <td>4</td>\n",
              "      <td>1</td>\n",
              "      <td>1</td>\n",
              "      <td>Futrelle, Mrs. Jacques Heath (Lily May Peel)</td>\n",
              "      <td>female</td>\n",
              "      <td>35.0</td>\n",
              "      <td>1</td>\n",
              "      <td>0</td>\n",
              "      <td>113803</td>\n",
              "      <td>53.1000</td>\n",
              "      <td>C123</td>\n",
              "      <td>S</td>\n",
              "    </tr>\n",
              "    <tr>\n",
              "      <th>4</th>\n",
              "      <td>5</td>\n",
              "      <td>0</td>\n",
              "      <td>3</td>\n",
              "      <td>Allen, Mr. William Henry</td>\n",
              "      <td>male</td>\n",
              "      <td>35.0</td>\n",
              "      <td>0</td>\n",
              "      <td>0</td>\n",
              "      <td>373450</td>\n",
              "      <td>8.0500</td>\n",
              "      <td>NaN</td>\n",
              "      <td>S</td>\n",
              "    </tr>\n",
              "  </tbody>\n",
              "</table>\n",
              "</div>\n",
              "      <button class=\"colab-df-convert\" onclick=\"convertToInteractive('df-4e2c07c2-26fb-4251-bbcb-85c3f863b373')\"\n",
              "              title=\"Convert this dataframe to an interactive table.\"\n",
              "              style=\"display:none;\">\n",
              "        \n",
              "  <svg xmlns=\"http://www.w3.org/2000/svg\" height=\"24px\"viewBox=\"0 0 24 24\"\n",
              "       width=\"24px\">\n",
              "    <path d=\"M0 0h24v24H0V0z\" fill=\"none\"/>\n",
              "    <path d=\"M18.56 5.44l.94 2.06.94-2.06 2.06-.94-2.06-.94-.94-2.06-.94 2.06-2.06.94zm-11 1L8.5 8.5l.94-2.06 2.06-.94-2.06-.94L8.5 2.5l-.94 2.06-2.06.94zm10 10l.94 2.06.94-2.06 2.06-.94-2.06-.94-.94-2.06-.94 2.06-2.06.94z\"/><path d=\"M17.41 7.96l-1.37-1.37c-.4-.4-.92-.59-1.43-.59-.52 0-1.04.2-1.43.59L10.3 9.45l-7.72 7.72c-.78.78-.78 2.05 0 2.83L4 21.41c.39.39.9.59 1.41.59.51 0 1.02-.2 1.41-.59l7.78-7.78 2.81-2.81c.8-.78.8-2.07 0-2.86zM5.41 20L4 18.59l7.72-7.72 1.47 1.35L5.41 20z\"/>\n",
              "  </svg>\n",
              "      </button>\n",
              "      \n",
              "  <style>\n",
              "    .colab-df-container {\n",
              "      display:flex;\n",
              "      flex-wrap:wrap;\n",
              "      gap: 12px;\n",
              "    }\n",
              "\n",
              "    .colab-df-convert {\n",
              "      background-color: #E8F0FE;\n",
              "      border: none;\n",
              "      border-radius: 50%;\n",
              "      cursor: pointer;\n",
              "      display: none;\n",
              "      fill: #1967D2;\n",
              "      height: 32px;\n",
              "      padding: 0 0 0 0;\n",
              "      width: 32px;\n",
              "    }\n",
              "\n",
              "    .colab-df-convert:hover {\n",
              "      background-color: #E2EBFA;\n",
              "      box-shadow: 0px 1px 2px rgba(60, 64, 67, 0.3), 0px 1px 3px 1px rgba(60, 64, 67, 0.15);\n",
              "      fill: #174EA6;\n",
              "    }\n",
              "\n",
              "    [theme=dark] .colab-df-convert {\n",
              "      background-color: #3B4455;\n",
              "      fill: #D2E3FC;\n",
              "    }\n",
              "\n",
              "    [theme=dark] .colab-df-convert:hover {\n",
              "      background-color: #434B5C;\n",
              "      box-shadow: 0px 1px 3px 1px rgba(0, 0, 0, 0.15);\n",
              "      filter: drop-shadow(0px 1px 2px rgba(0, 0, 0, 0.3));\n",
              "      fill: #FFFFFF;\n",
              "    }\n",
              "  </style>\n",
              "\n",
              "      <script>\n",
              "        const buttonEl =\n",
              "          document.querySelector('#df-4e2c07c2-26fb-4251-bbcb-85c3f863b373 button.colab-df-convert');\n",
              "        buttonEl.style.display =\n",
              "          google.colab.kernel.accessAllowed ? 'block' : 'none';\n",
              "\n",
              "        async function convertToInteractive(key) {\n",
              "          const element = document.querySelector('#df-4e2c07c2-26fb-4251-bbcb-85c3f863b373');\n",
              "          const dataTable =\n",
              "            await google.colab.kernel.invokeFunction('convertToInteractive',\n",
              "                                                     [key], {});\n",
              "          if (!dataTable) return;\n",
              "\n",
              "          const docLinkHtml = 'Like what you see? Visit the ' +\n",
              "            '<a target=\"_blank\" href=https://colab.research.google.com/notebooks/data_table.ipynb>data table notebook</a>'\n",
              "            + ' to learn more about interactive tables.';\n",
              "          element.innerHTML = '';\n",
              "          dataTable['output_type'] = 'display_data';\n",
              "          await google.colab.output.renderOutput(dataTable, element);\n",
              "          const docLink = document.createElement('div');\n",
              "          docLink.innerHTML = docLinkHtml;\n",
              "          element.appendChild(docLink);\n",
              "        }\n",
              "      </script>\n",
              "    </div>\n",
              "  </div>\n",
              "  "
            ],
            "text/plain": [
              "   PassengerId  Survived  Pclass  ...     Fare Cabin  Embarked\n",
              "0            1         0       3  ...   7.2500   NaN         S\n",
              "1            2         1       1  ...  71.2833   C85         C\n",
              "2            3         1       3  ...   7.9250   NaN         S\n",
              "3            4         1       1  ...  53.1000  C123         S\n",
              "4            5         0       3  ...   8.0500   NaN         S\n",
              "\n",
              "[5 rows x 12 columns]"
            ]
          },
          "metadata": {},
          "execution_count": 26
        }
      ]
    },
    {
      "cell_type": "code",
      "source": [
        "ax = sns.boxplot(x='Fare',data=titanic_df)"
      ],
      "metadata": {
        "colab": {
          "base_uri": "https://localhost:8080/",
          "height": 279
        },
        "id": "moAjOuGLzKgo",
        "outputId": "a247dd3e-170a-4c51-bd03-d09b5f6858b9"
      },
      "execution_count": null,
      "outputs": [
        {
          "output_type": "display_data",
          "data": {
            "image/png": "[encoded data removed]",
            "text/plain": [
              "<Figure size 432x288 with 1 Axes>"
            ]
          },
          "metadata": {
            "needs_background": "light"
          }
        }
      ]
    },
    {
      "cell_type": "markdown",
      "source": [
        "## **Bivariate/ Multivariate Analysis**\n",
        "\n",
        "Bivariate Analysis is used when we have to explore the relationship between 2 different variables and we have to do this because, in the end, our main task is to explore the relationship between variables to build a powerful model. And when we analyze more than 2 variables together then it is known as Multivariate Analysis. we will work on different plots for Bivariate as well on Multivariate Analysis."
      ],
      "metadata": {
        "id": "EJgnAB_3Ubzu"
      }
    },
    {
      "cell_type": "markdown",
      "source": [
        "**Scatter Plot**\n",
        "\n",
        "To plot the relationship between two numerical variables scatter plot is a simple plot to do\n"
      ],
      "metadata": {
        "id": "AtQuwG4aUqLR"
      }
    },
    {
      "cell_type": "code",
      "source": [
        "tips_df.head()"
      ],
      "metadata": {
        "id": "_5nuJBywzR53",
        "colab": {
          "base_uri": "https://localhost:8080/",
          "height": 206
        },
        "outputId": "51e94558-1b3e-4995-8afe-3d462a17cb71"
      },
      "execution_count": null,
      "outputs": [
        {
          "output_type": "execute_result",
          "data": {
            "text/html": [
              "\n",
              "  <div id=\"df-10cdd7b8-79c0-4117-9add-3a18ea97258b\">\n",
              "    <div class=\"colab-df-container\">\n",
              "      <div>\n",
              "<style scoped>\n",
              "    .dataframe tbody tr th:only-of-type {\n",
              "        vertical-align: middle;\n",
              "    }\n",
              "\n",
              "    .dataframe tbody tr th {\n",
              "        vertical-align: top;\n",
              "    }\n",
              "\n",
              "    .dataframe thead th {\n",
              "        text-align: right;\n",
              "    }\n",
              "</style>\n",
              "<table border=\"1\" class=\"dataframe\">\n",
              "  <thead>\n",
              "    <tr style=\"text-align: right;\">\n",
              "      <th></th>\n",
              "      <th>total_bill</th>\n",
              "      <th>tip</th>\n",
              "      <th>sex</th>\n",
              "      <th>smoker</th>\n",
              "      <th>day</th>\n",
              "      <th>time</th>\n",
              "      <th>size</th>\n",
              "    </tr>\n",
              "  </thead>\n",
              "  <tbody>\n",
              "    <tr>\n",
              "      <th>0</th>\n",
              "      <td>16.99</td>\n",
              "      <td>1.01</td>\n",
              "      <td>Female</td>\n",
              "      <td>No</td>\n",
              "      <td>Sun</td>\n",
              "      <td>Dinner</td>\n",
              "      <td>2</td>\n",
              "    </tr>\n",
              "    <tr>\n",
              "      <th>1</th>\n",
              "      <td>10.34</td>\n",
              "      <td>1.66</td>\n",
              "      <td>Male</td>\n",
              "      <td>No</td>\n",
              "      <td>Sun</td>\n",
              "      <td>Dinner</td>\n",
              "      <td>3</td>\n",
              "    </tr>\n",
              "    <tr>\n",
              "      <th>2</th>\n",
              "      <td>21.01</td>\n",
              "      <td>3.50</td>\n",
              "      <td>Male</td>\n",
              "      <td>No</td>\n",
              "      <td>Sun</td>\n",
              "      <td>Dinner</td>\n",
              "      <td>3</td>\n",
              "    </tr>\n",
              "    <tr>\n",
              "      <th>3</th>\n",
              "      <td>23.68</td>\n",
              "      <td>3.31</td>\n",
              "      <td>Male</td>\n",
              "      <td>No</td>\n",
              "      <td>Sun</td>\n",
              "      <td>Dinner</td>\n",
              "      <td>2</td>\n",
              "    </tr>\n",
              "    <tr>\n",
              "      <th>4</th>\n",
              "      <td>24.59</td>\n",
              "      <td>3.61</td>\n",
              "      <td>Female</td>\n",
              "      <td>No</td>\n",
              "      <td>Sun</td>\n",
              "      <td>Dinner</td>\n",
              "      <td>4</td>\n",
              "    </tr>\n",
              "  </tbody>\n",
              "</table>\n",
              "</div>\n",
              "      <button class=\"colab-df-convert\" onclick=\"convertToInteractive('df-10cdd7b8-79c0-4117-9add-3a18ea97258b')\"\n",
              "              title=\"Convert this dataframe to an interactive table.\"\n",
              "              style=\"display:none;\">\n",
              "        \n",
              "  <svg xmlns=\"http://www.w3.org/2000/svg\" height=\"24px\"viewBox=\"0 0 24 24\"\n",
              "       width=\"24px\">\n",
              "    <path d=\"M0 0h24v24H0V0z\" fill=\"none\"/>\n",
              "    <path d=\"M18.56 5.44l.94 2.06.94-2.06 2.06-.94-2.06-.94-.94-2.06-.94 2.06-2.06.94zm-11 1L8.5 8.5l.94-2.06 2.06-.94-2.06-.94L8.5 2.5l-.94 2.06-2.06.94zm10 10l.94 2.06.94-2.06 2.06-.94-2.06-.94-.94-2.06-.94 2.06-2.06.94z\"/><path d=\"M17.41 7.96l-1.37-1.37c-.4-.4-.92-.59-1.43-.59-.52 0-1.04.2-1.43.59L10.3 9.45l-7.72 7.72c-.78.78-.78 2.05 0 2.83L4 21.41c.39.39.9.59 1.41.59.51 0 1.02-.2 1.41-.59l7.78-7.78 2.81-2.81c.8-.78.8-2.07 0-2.86zM5.41 20L4 18.59l7.72-7.72 1.47 1.35L5.41 20z\"/>\n",
              "  </svg>\n",
              "      </button>\n",
              "      \n",
              "  <style>\n",
              "    .colab-df-container {\n",
              "      display:flex;\n",
              "      flex-wrap:wrap;\n",
              "      gap: 12px;\n",
              "    }\n",
              "\n",
              "    .colab-df-convert {\n",
              "      background-color: #E8F0FE;\n",
              "      border: none;\n",
              "      border-radius: 50%;\n",
              "      cursor: pointer;\n",
              "      display: none;\n",
              "      fill: #1967D2;\n",
              "      height: 32px;\n",
              "      padding: 0 0 0 0;\n",
              "      width: 32px;\n",
              "    }\n",
              "\n",
              "    .colab-df-convert:hover {\n",
              "      background-color: #E2EBFA;\n",
              "      box-shadow: 0px 1px 2px rgba(60, 64, 67, 0.3), 0px 1px 3px 1px rgba(60, 64, 67, 0.15);\n",
              "      fill: #174EA6;\n",
              "    }\n",
              "\n",
              "    [theme=dark] .colab-df-convert {\n",
              "      background-color: #3B4455;\n",
              "      fill: #D2E3FC;\n",
              "    }\n",
              "\n",
              "    [theme=dark] .colab-df-convert:hover {\n",
              "      background-color: #434B5C;\n",
              "      box-shadow: 0px 1px 3px 1px rgba(0, 0, 0, 0.15);\n",
              "      filter: drop-shadow(0px 1px 2px rgba(0, 0, 0, 0.3));\n",
              "      fill: #FFFFFF;\n",
              "    }\n",
              "  </style>\n",
              "\n",
              "      <script>\n",
              "        const buttonEl =\n",
              "          document.querySelector('#df-10cdd7b8-79c0-4117-9add-3a18ea97258b button.colab-df-convert');\n",
              "        buttonEl.style.display =\n",
              "          google.colab.kernel.accessAllowed ? 'block' : 'none';\n",
              "\n",
              "        async function convertToInteractive(key) {\n",
              "          const element = document.querySelector('#df-10cdd7b8-79c0-4117-9add-3a18ea97258b');\n",
              "          const dataTable =\n",
              "            await google.colab.kernel.invokeFunction('convertToInteractive',\n",
              "                                                     [key], {});\n",
              "          if (!dataTable) return;\n",
              "\n",
              "          const docLinkHtml = 'Like what you see? Visit the ' +\n",
              "            '<a target=\"_blank\" href=https://colab.research.google.com/notebooks/data_table.ipynb>data table notebook</a>'\n",
              "            + ' to learn more about interactive tables.';\n",
              "          element.innerHTML = '';\n",
              "          dataTable['output_type'] = 'display_data';\n",
              "          await google.colab.output.renderOutput(dataTable, element);\n",
              "          const docLink = document.createElement('div');\n",
              "          docLink.innerHTML = docLinkHtml;\n",
              "          element.appendChild(docLink);\n",
              "        }\n",
              "      </script>\n",
              "    </div>\n",
              "  </div>\n",
              "  "
            ],
            "text/plain": [
              "   total_bill   tip     sex smoker  day    time  size\n",
              "0       16.99  1.01  Female     No  Sun  Dinner     2\n",
              "1       10.34  1.66    Male     No  Sun  Dinner     3\n",
              "2       21.01  3.50    Male     No  Sun  Dinner     3\n",
              "3       23.68  3.31    Male     No  Sun  Dinner     2\n",
              "4       24.59  3.61  Female     No  Sun  Dinner     4"
            ]
          },
          "metadata": {},
          "execution_count": 28
        }
      ]
    },
    {
      "cell_type": "code",
      "source": [
        "sns.scatterplot(data=tips_df,x=\"total_bill\",y='tip')"
      ],
      "metadata": {
        "colab": {
          "base_uri": "https://localhost:8080/",
          "height": 297
        },
        "id": "8McC0_PRUu-Z",
        "outputId": "169322a6-70f5-41a5-f0b1-32563ffc8d51"
      },
      "execution_count": null,
      "outputs": [
        {
          "output_type": "execute_result",
          "data": {
            "text/plain": [
              "<matplotlib.axes._subplots.AxesSubplot at 0x7f0ff75da450>"
            ]
          },
          "metadata": {},
          "execution_count": 29
        },
        {
          "output_type": "display_data",
          "data": {
            "image/png": "[encoded data removed]",
            "text/plain": [
              "<Figure size 432x288 with 1 Axes>"
            ]
          },
          "metadata": {
            "needs_background": "light"
          }
        }
      ]
    },
    {
      "cell_type": "markdown",
      "source": [
        "**Multivariate analysis with scatter plot**"
      ],
      "metadata": {
        "id": "ARQGPu_mVVcM"
      }
    },
    {
      "cell_type": "code",
      "source": [
        "sns.scatterplot(data=tips_df,x=\"total_bill\",y='tip',hue='time')"
      ],
      "metadata": {
        "colab": {
          "base_uri": "https://localhost:8080/",
          "height": 297
        },
        "id": "HKmx9BJFVAAn",
        "outputId": "a85884f1-3d4e-47a9-c9e3-86fa696403cf"
      },
      "execution_count": null,
      "outputs": [
        {
          "output_type": "execute_result",
          "data": {
            "text/plain": [
              "<matplotlib.axes._subplots.AxesSubplot at 0x7f0ff754fc10>"
            ]
          },
          "metadata": {},
          "execution_count": 30
        },
        {
          "output_type": "display_data",
          "data": {
            "image/png": "[encoded data removed]",
            "text/plain": [
              "<Figure size 432x288 with 1 Axes>"
            ]
          },
          "metadata": {
            "needs_background": "light"
          }
        }
      ]
    },
    {
      "cell_type": "code",
      "source": [
        "sns.scatterplot(data=tips_df,x=\"total_bill\",y='tip',hue='sex')"
      ],
      "metadata": {
        "colab": {
          "base_uri": "https://localhost:8080/",
          "height": 297
        },
        "id": "orw1qn_2VHio",
        "outputId": "c23bffeb-225c-4bcc-ba0f-0ecf0da3f642"
      },
      "execution_count": null,
      "outputs": [
        {
          "output_type": "execute_result",
          "data": {
            "text/plain": [
              "<matplotlib.axes._subplots.AxesSubplot at 0x7f0ff7691e50>"
            ]
          },
          "metadata": {},
          "execution_count": 31
        },
        {
          "output_type": "display_data",
          "data": {
            "image/png": "[encoded data removed]",
            "text/plain": [
              "<Figure size 432x288 with 1 Axes>"
            ]
          },
          "metadata": {
            "needs_background": "light"
          }
        }
      ]
    },
    {
      "cell_type": "markdown",
      "source": [
        "We can also see 4 variable multivariate analyses with scatter plots using style argument."
      ],
      "metadata": {
        "id": "pS7ZwuLgVnT-"
      }
    },
    {
      "cell_type": "code",
      "source": [
        "# Assigning the same variable to style will also vary the markers and create a more accessible plot:\n",
        "sns.scatterplot(data=tips_df,x=\"total_bill\",y='tip',hue='day',style='time')"
      ],
      "metadata": {
        "colab": {
          "base_uri": "https://localhost:8080/",
          "height": 297
        },
        "id": "3rfgjZHRVgdU",
        "outputId": "d7522542-bb17-47cb-f79e-5f8b54a9ecc3"
      },
      "execution_count": null,
      "outputs": [
        {
          "output_type": "execute_result",
          "data": {
            "text/plain": [
              "<matplotlib.axes._subplots.AxesSubplot at 0x7f0ff76e4a10>"
            ]
          },
          "metadata": {},
          "execution_count": 32
        },
        {
          "output_type": "display_data",
          "data": {
            "image/png": "[encoded data removed]",
            "text/plain": [
              "<Figure size 432x288 with 1 Axes>"
            ]
          },
          "metadata": {
            "needs_background": "light"
          }
        }
      ]
    },
    {
      "cell_type": "markdown",
      "source": [
        "**Bar Plot**\n",
        "\n",
        "\n",
        "Bar plot is a simple plot which we can use to plot categorical variable on the x-axis and numerical variable on y-axis and explore the relationship between both variables. The blacktip on top of each bar shows the confidence Interval."
      ],
      "metadata": {
        "id": "ZA5EpYS9WNdL"
      }
    },
    {
      "cell_type": "code",
      "source": [
        "ax = sns.barplot(x=\"day\", y=\"total_bill\", data=tips_df)"
      ],
      "metadata": {
        "colab": {
          "base_uri": "https://localhost:8080/",
          "height": 279
        },
        "id": "2l8EtZZ_WFwg",
        "outputId": "14e7fb75-6e7d-4314-eb6f-f1c110a1f921"
      },
      "execution_count": null,
      "outputs": [
        {
          "output_type": "display_data",
          "data": {
            "image/png": "[encoded data removed]",
            "text/plain": [
              "<Figure size 432x288 with 1 Axes>"
            ]
          },
          "metadata": {
            "needs_background": "light"
          }
        }
      ]
    },
    {
      "cell_type": "markdown",
      "source": [
        "Multivariate analysis using Bar plot"
      ],
      "metadata": {
        "id": "RK3GvpeqXpuF"
      }
    },
    {
      "cell_type": "code",
      "source": [
        "ax = sns.barplot(x='Pclass',y='Age',data=titanic_df,hue='Sex')"
      ],
      "metadata": {
        "colab": {
          "base_uri": "https://localhost:8080/",
          "height": 279
        },
        "id": "zoIhH3mlWdHA",
        "outputId": "0d8fc0c1-3e2e-40fa-b54c-44e6668f7b1e"
      },
      "execution_count": null,
      "outputs": [
        {
          "output_type": "display_data",
          "data": {
            "image/png": "[encoded data removed]",
            "text/plain": [
              "<Figure size 432x288 with 1 Axes>"
            ]
          },
          "metadata": {
            "needs_background": "light"
          }
        }
      ]
    },
    {
      "cell_type": "markdown",
      "source": [
        "Boxplot\n",
        "\n"
      ],
      "metadata": {
        "id": "JRDP3FCVYRpS"
      }
    },
    {
      "cell_type": "code",
      "source": [
        "ax = sns.boxplot(x='Sex',y='Age',data=titanic_df)"
      ],
      "metadata": {
        "colab": {
          "base_uri": "https://localhost:8080/",
          "height": 279
        },
        "id": "rgztm-iXYCiB",
        "outputId": "b163a09c-74c8-4a23-82a4-bfebd41f1411"
      },
      "execution_count": null,
      "outputs": [
        {
          "output_type": "display_data",
          "data": {
            "image/png": "[encoded data removed]",
            "text/plain": [
              "<Figure size 432x288 with 1 Axes>"
            ]
          },
          "metadata": {
            "needs_background": "light"
          }
        }
      ]
    },
    {
      "cell_type": "markdown",
      "source": [
        "## **Tabular data**"
      ],
      "metadata": {
        "id": "qzKeay_6S7V4"
      }
    },
    {
      "cell_type": "markdown",
      "source": [
        "The term “tabular” refers to data that is displayed in columns or tables, which can be created by most BI tools.\n",
        "\n",
        "Data can be summarized in a tabular format in various ways for different use cases.\n",
        "\n",
        "The most basic form of a table is one that just displays all the rows of a data set. This can be done without any BI tools, and often does not reveal much information. However, it is helpful when looking at specific data entries. In this type of table, there are multiple columns, and each row correlates to one data entry. For example, if a table has a column called “NAME” and a column called “GENDER,” then each of the rows would contain the name of a person and their gender.\n",
        "\n",
        "Tables can become more intricate and detailed when BI tools get involved. In this case, data can be aggregated to show average, sum, count, max, or min, then displayed in a table with correlating variables. For example, without a BI tool you could have a simple table with columns called “NAME,” “GENDER,” and “SALARY,” but you would only be able to see the individual genders and salaries for each person. With data aggregation from using a BI tool, you would be able to see the average salary for each gender, the total salary for each gender, and even the total number of employees by gender. This allows the tables to become more versatile and display more useful information."
      ],
      "metadata": {
        "id": "epZbYWnnTKf0"
      }
    },
    {
      "cell_type": "code",
      "source": [
        "titanic_df.head(3)"
      ],
      "metadata": {
        "id": "nfkI1QhfYgUk",
        "colab": {
          "base_uri": "https://localhost:8080/",
          "height": 187
        },
        "outputId": "eb0a6abf-e409-44e0-b092-414cded07a03"
      },
      "execution_count": null,
      "outputs": [
        {
          "output_type": "execute_result",
          "data": {
            "text/html": [
              "\n",
              "  <div id=\"df-c575419b-4ee6-410b-8987-d1b73b4bd2ce\">\n",
              "    <div class=\"colab-df-container\">\n",
              "      <div>\n",
              "<style scoped>\n",
              "    .dataframe tbody tr th:only-of-type {\n",
              "        vertical-align: middle;\n",
              "    }\n",
              "\n",
              "    .dataframe tbody tr th {\n",
              "        vertical-align: top;\n",
              "    }\n",
              "\n",
              "    .dataframe thead th {\n",
              "        text-align: right;\n",
              "    }\n",
              "</style>\n",
              "<table border=\"1\" class=\"dataframe\">\n",
              "  <thead>\n",
              "    <tr style=\"text-align: right;\">\n",
              "      <th></th>\n",
              "      <th>PassengerId</th>\n",
              "      <th>Survived</th>\n",
              "      <th>Pclass</th>\n",
              "      <th>Name</th>\n",
              "      <th>Sex</th>\n",
              "      <th>Age</th>\n",
              "      <th>SibSp</th>\n",
              "      <th>Parch</th>\n",
              "      <th>Ticket</th>\n",
              "      <th>Fare</th>\n",
              "      <th>Cabin</th>\n",
              "      <th>Embarked</th>\n",
              "    </tr>\n",
              "  </thead>\n",
              "  <tbody>\n",
              "    <tr>\n",
              "      <th>0</th>\n",
              "      <td>1</td>\n",
              "      <td>0</td>\n",
              "      <td>3</td>\n",
              "      <td>Braund, Mr. Owen Harris</td>\n",
              "      <td>male</td>\n",
              "      <td>22.0</td>\n",
              "      <td>1</td>\n",
              "      <td>0</td>\n",
              "      <td>A/5 21171</td>\n",
              "      <td>7.2500</td>\n",
              "      <td>NaN</td>\n",
              "      <td>S</td>\n",
              "    </tr>\n",
              "    <tr>\n",
              "      <th>1</th>\n",
              "      <td>2</td>\n",
              "      <td>1</td>\n",
              "      <td>1</td>\n",
              "      <td>Cumings, Mrs. John Bradley (Florence Briggs Th...</td>\n",
              "      <td>female</td>\n",
              "      <td>38.0</td>\n",
              "      <td>1</td>\n",
              "      <td>0</td>\n",
              "      <td>PC 17599</td>\n",
              "      <td>71.2833</td>\n",
              "      <td>C85</td>\n",
              "      <td>C</td>\n",
              "    </tr>\n",
              "    <tr>\n",
              "      <th>2</th>\n",
              "      <td>3</td>\n",
              "      <td>1</td>\n",
              "      <td>3</td>\n",
              "      <td>Heikkinen, Miss. Laina</td>\n",
              "      <td>female</td>\n",
              "      <td>26.0</td>\n",
              "      <td>0</td>\n",
              "      <td>0</td>\n",
              "      <td>STON/O2. 3101282</td>\n",
              "      <td>7.9250</td>\n",
              "      <td>NaN</td>\n",
              "      <td>S</td>\n",
              "    </tr>\n",
              "  </tbody>\n",
              "</table>\n",
              "</div>\n",
              "      <button class=\"colab-df-convert\" onclick=\"convertToInteractive('df-c575419b-4ee6-410b-8987-d1b73b4bd2ce')\"\n",
              "              title=\"Convert this dataframe to an interactive table.\"\n",
              "              style=\"display:none;\">\n",
              "        \n",
              "  <svg xmlns=\"http://www.w3.org/2000/svg\" height=\"24px\"viewBox=\"0 0 24 24\"\n",
              "       width=\"24px\">\n",
              "    <path d=\"M0 0h24v24H0V0z\" fill=\"none\"/>\n",
              "    <path d=\"M18.56 5.44l.94 2.06.94-2.06 2.06-.94-2.06-.94-.94-2.06-.94 2.06-2.06.94zm-11 1L8.5 8.5l.94-2.06 2.06-.94-2.06-.94L8.5 2.5l-.94 2.06-2.06.94zm10 10l.94 2.06.94-2.06 2.06-.94-2.06-.94-.94-2.06-.94 2.06-2.06.94z\"/><path d=\"M17.41 7.96l-1.37-1.37c-.4-.4-.92-.59-1.43-.59-.52 0-1.04.2-1.43.59L10.3 9.45l-7.72 7.72c-.78.78-.78 2.05 0 2.83L4 21.41c.39.39.9.59 1.41.59.51 0 1.02-.2 1.41-.59l7.78-7.78 2.81-2.81c.8-.78.8-2.07 0-2.86zM5.41 20L4 18.59l7.72-7.72 1.47 1.35L5.41 20z\"/>\n",
              "  </svg>\n",
              "      </button>\n",
              "      \n",
              "  <style>\n",
              "    .colab-df-container {\n",
              "      display:flex;\n",
              "      flex-wrap:wrap;\n",
              "      gap: 12px;\n",
              "    }\n",
              "\n",
              "    .colab-df-convert {\n",
              "      background-color: #E8F0FE;\n",
              "      border: none;\n",
              "      border-radius: 50%;\n",
              "      cursor: pointer;\n",
              "      display: none;\n",
              "      fill: #1967D2;\n",
              "      height: 32px;\n",
              "      padding: 0 0 0 0;\n",
              "      width: 32px;\n",
              "    }\n",
              "\n",
              "    .colab-df-convert:hover {\n",
              "      background-color: #E2EBFA;\n",
              "      box-shadow: 0px 1px 2px rgba(60, 64, 67, 0.3), 0px 1px 3px 1px rgba(60, 64, 67, 0.15);\n",
              "      fill: #174EA6;\n",
              "    }\n",
              "\n",
              "    [theme=dark] .colab-df-convert {\n",
              "      background-color: #3B4455;\n",
              "      fill: #D2E3FC;\n",
              "    }\n",
              "\n",
              "    [theme=dark] .colab-df-convert:hover {\n",
              "      background-color: #434B5C;\n",
              "      box-shadow: 0px 1px 3px 1px rgba(0, 0, 0, 0.15);\n",
              "      filter: drop-shadow(0px 1px 2px rgba(0, 0, 0, 0.3));\n",
              "      fill: #FFFFFF;\n",
              "    }\n",
              "  </style>\n",
              "\n",
              "      <script>\n",
              "        const buttonEl =\n",
              "          document.querySelector('#df-c575419b-4ee6-410b-8987-d1b73b4bd2ce button.colab-df-convert');\n",
              "        buttonEl.style.display =\n",
              "          google.colab.kernel.accessAllowed ? 'block' : 'none';\n",
              "\n",
              "        async function convertToInteractive(key) {\n",
              "          const element = document.querySelector('#df-c575419b-4ee6-410b-8987-d1b73b4bd2ce');\n",
              "          const dataTable =\n",
              "            await google.colab.kernel.invokeFunction('convertToInteractive',\n",
              "                                                     [key], {});\n",
              "          if (!dataTable) return;\n",
              "\n",
              "          const docLinkHtml = 'Like what you see? Visit the ' +\n",
              "            '<a target=\"_blank\" href=https://colab.research.google.com/notebooks/data_table.ipynb>data table notebook</a>'\n",
              "            + ' to learn more about interactive tables.';\n",
              "          element.innerHTML = '';\n",
              "          dataTable['output_type'] = 'display_data';\n",
              "          await google.colab.output.renderOutput(dataTable, element);\n",
              "          const docLink = document.createElement('div');\n",
              "          docLink.innerHTML = docLinkHtml;\n",
              "          element.appendChild(docLink);\n",
              "        }\n",
              "      </script>\n",
              "    </div>\n",
              "  </div>\n",
              "  "
            ],
            "text/plain": [
              "   PassengerId  Survived  Pclass  ...     Fare Cabin  Embarked\n",
              "0            1         0       3  ...   7.2500   NaN         S\n",
              "1            2         1       1  ...  71.2833   C85         C\n",
              "2            3         1       3  ...   7.9250   NaN         S\n",
              "\n",
              "[3 rows x 12 columns]"
            ]
          },
          "metadata": {},
          "execution_count": 36
        }
      ]
    },
    {
      "cell_type": "code",
      "source": [
        "titanic_df.groupby(\"Pclass\").mean()[[\"Age\",\"Fare\"]]"
      ],
      "metadata": {
        "colab": {
          "base_uri": "https://localhost:8080/",
          "height": 175
        },
        "id": "TlkCLlKtUbH-",
        "outputId": "a89d3c0c-f45d-438a-eeae-9d594b452734"
      },
      "execution_count": null,
      "outputs": [
        {
          "output_type": "execute_result",
          "data": {
            "text/html": [
              "\n",
              "  <div id=\"df-8dc30dda-f434-4a27-abff-28cdd90af4e5\">\n",
              "    <div class=\"colab-df-container\">\n",
              "      <div>\n",
              "<style scoped>\n",
              "    .dataframe tbody tr th:only-of-type {\n",
              "        vertical-align: middle;\n",
              "    }\n",
              "\n",
              "    .dataframe tbody tr th {\n",
              "        vertical-align: top;\n",
              "    }\n",
              "\n",
              "    .dataframe thead th {\n",
              "        text-align: right;\n",
              "    }\n",
              "</style>\n",
              "<table border=\"1\" class=\"dataframe\">\n",
              "  <thead>\n",
              "    <tr style=\"text-align: right;\">\n",
              "      <th></th>\n",
              "      <th>Age</th>\n",
              "      <th>Fare</th>\n",
              "    </tr>\n",
              "    <tr>\n",
              "      <th>Pclass</th>\n",
              "      <th></th>\n",
              "      <th></th>\n",
              "    </tr>\n",
              "  </thead>\n",
              "  <tbody>\n",
              "    <tr>\n",
              "      <th>1</th>\n",
              "      <td>38.233441</td>\n",
              "      <td>84.154687</td>\n",
              "    </tr>\n",
              "    <tr>\n",
              "      <th>2</th>\n",
              "      <td>29.877630</td>\n",
              "      <td>20.662183</td>\n",
              "    </tr>\n",
              "    <tr>\n",
              "      <th>3</th>\n",
              "      <td>25.140620</td>\n",
              "      <td>13.675550</td>\n",
              "    </tr>\n",
              "  </tbody>\n",
              "</table>\n",
              "</div>\n",
              "      <button class=\"colab-df-convert\" onclick=\"convertToInteractive('df-8dc30dda-f434-4a27-abff-28cdd90af4e5')\"\n",
              "              title=\"Convert this dataframe to an interactive table.\"\n",
              "              style=\"display:none;\">\n",
              "        \n",
              "  <svg xmlns=\"http://www.w3.org/2000/svg\" height=\"24px\"viewBox=\"0 0 24 24\"\n",
              "       width=\"24px\">\n",
              "    <path d=\"M0 0h24v24H0V0z\" fill=\"none\"/>\n",
              "    <path d=\"M18.56 5.44l.94 2.06.94-2.06 2.06-.94-2.06-.94-.94-2.06-.94 2.06-2.06.94zm-11 1L8.5 8.5l.94-2.06 2.06-.94-2.06-.94L8.5 2.5l-.94 2.06-2.06.94zm10 10l.94 2.06.94-2.06 2.06-.94-2.06-.94-.94-2.06-.94 2.06-2.06.94z\"/><path d=\"M17.41 7.96l-1.37-1.37c-.4-.4-.92-.59-1.43-.59-.52 0-1.04.2-1.43.59L10.3 9.45l-7.72 7.72c-.78.78-.78 2.05 0 2.83L4 21.41c.39.39.9.59 1.41.59.51 0 1.02-.2 1.41-.59l7.78-7.78 2.81-2.81c.8-.78.8-2.07 0-2.86zM5.41 20L4 18.59l7.72-7.72 1.47 1.35L5.41 20z\"/>\n",
              "  </svg>\n",
              "      </button>\n",
              "      \n",
              "  <style>\n",
              "    .colab-df-container {\n",
              "      display:flex;\n",
              "      flex-wrap:wrap;\n",
              "      gap: 12px;\n",
              "    }\n",
              "\n",
              "    .colab-df-convert {\n",
              "      background-color: #E8F0FE;\n",
              "      border: none;\n",
              "      border-radius: 50%;\n",
              "      cursor: pointer;\n",
              "      display: none;\n",
              "      fill: #1967D2;\n",
              "      height: 32px;\n",
              "      padding: 0 0 0 0;\n",
              "      width: 32px;\n",
              "    }\n",
              "\n",
              "    .colab-df-convert:hover {\n",
              "      background-color: #E2EBFA;\n",
              "      box-shadow: 0px 1px 2px rgba(60, 64, 67, 0.3), 0px 1px 3px 1px rgba(60, 64, 67, 0.15);\n",
              "      fill: #174EA6;\n",
              "    }\n",
              "\n",
              "    [theme=dark] .colab-df-convert {\n",
              "      background-color: #3B4455;\n",
              "      fill: #D2E3FC;\n",
              "    }\n",
              "\n",
              "    [theme=dark] .colab-df-convert:hover {\n",
              "      background-color: #434B5C;\n",
              "      box-shadow: 0px 1px 3px 1px rgba(0, 0, 0, 0.15);\n",
              "      filter: drop-shadow(0px 1px 2px rgba(0, 0, 0, 0.3));\n",
              "      fill: #FFFFFF;\n",
              "    }\n",
              "  </style>\n",
              "\n",
              "      <script>\n",
              "        const buttonEl =\n",
              "          document.querySelector('#df-8dc30dda-f434-4a27-abff-28cdd90af4e5 button.colab-df-convert');\n",
              "        buttonEl.style.display =\n",
              "          google.colab.kernel.accessAllowed ? 'block' : 'none';\n",
              "\n",
              "        async function convertToInteractive(key) {\n",
              "          const element = document.querySelector('#df-8dc30dda-f434-4a27-abff-28cdd90af4e5');\n",
              "          const dataTable =\n",
              "            await google.colab.kernel.invokeFunction('convertToInteractive',\n",
              "                                                     [key], {});\n",
              "          if (!dataTable) return;\n",
              "\n",
              "          const docLinkHtml = 'Like what you see? Visit the ' +\n",
              "            '<a target=\"_blank\" href=https://colab.research.google.com/notebooks/data_table.ipynb>data table notebook</a>'\n",
              "            + ' to learn more about interactive tables.';\n",
              "          element.innerHTML = '';\n",
              "          dataTable['output_type'] = 'display_data';\n",
              "          await google.colab.output.renderOutput(dataTable, element);\n",
              "          const docLink = document.createElement('div');\n",
              "          docLink.innerHTML = docLinkHtml;\n",
              "          element.appendChild(docLink);\n",
              "        }\n",
              "      </script>\n",
              "    </div>\n",
              "  </div>\n",
              "  "
            ],
            "text/plain": [
              "              Age       Fare\n",
              "Pclass                      \n",
              "1       38.233441  84.154687\n",
              "2       29.877630  20.662183\n",
              "3       25.140620  13.675550"
            ]
          },
          "metadata": {},
          "execution_count": 37
        }
      ]
    },
    {
      "cell_type": "code",
      "source": [
        "titanic_df.groupby(\"Pclass\").mean()[[\"Age\",\"Fare\"]].T"
      ],
      "metadata": {
        "colab": {
          "base_uri": "https://localhost:8080/",
          "height": 112
        },
        "id": "Rn__flDnUoNI",
        "outputId": "cd138b2b-7ac0-476f-ec30-c3ced051a552"
      },
      "execution_count": null,
      "outputs": [
        {
          "output_type": "execute_result",
          "data": {
            "text/html": [
              "\n",
              "  <div id=\"df-d7db3725-66f5-4604-b38c-9503909526de\">\n",
              "    <div class=\"colab-df-container\">\n",
              "      <div>\n",
              "<style scoped>\n",
              "    .dataframe tbody tr th:only-of-type {\n",
              "        vertical-align: middle;\n",
              "    }\n",
              "\n",
              "    .dataframe tbody tr th {\n",
              "        vertical-align: top;\n",
              "    }\n",
              "\n",
              "    .dataframe thead th {\n",
              "        text-align: right;\n",
              "    }\n",
              "</style>\n",
              "<table border=\"1\" class=\"dataframe\">\n",
              "  <thead>\n",
              "    <tr style=\"text-align: right;\">\n",
              "      <th>Pclass</th>\n",
              "      <th>1</th>\n",
              "      <th>2</th>\n",
              "      <th>3</th>\n",
              "    </tr>\n",
              "  </thead>\n",
              "  <tbody>\n",
              "    <tr>\n",
              "      <th>Age</th>\n",
              "      <td>38.233441</td>\n",
              "      <td>29.877630</td>\n",
              "      <td>25.14062</td>\n",
              "    </tr>\n",
              "    <tr>\n",
              "      <th>Fare</th>\n",
              "      <td>84.154687</td>\n",
              "      <td>20.662183</td>\n",
              "      <td>13.67555</td>\n",
              "    </tr>\n",
              "  </tbody>\n",
              "</table>\n",
              "</div>\n",
              "      <button class=\"colab-df-convert\" onclick=\"convertToInteractive('df-d7db3725-66f5-4604-b38c-9503909526de')\"\n",
              "              title=\"Convert this dataframe to an interactive table.\"\n",
              "              style=\"display:none;\">\n",
              "        \n",
              "  <svg xmlns=\"http://www.w3.org/2000/svg\" height=\"24px\"viewBox=\"0 0 24 24\"\n",
              "       width=\"24px\">\n",
              "    <path d=\"M0 0h24v24H0V0z\" fill=\"none\"/>\n",
              "    <path d=\"M18.56 5.44l.94 2.06.94-2.06 2.06-.94-2.06-.94-.94-2.06-.94 2.06-2.06.94zm-11 1L8.5 8.5l.94-2.06 2.06-.94-2.06-.94L8.5 2.5l-.94 2.06-2.06.94zm10 10l.94 2.06.94-2.06 2.06-.94-2.06-.94-.94-2.06-.94 2.06-2.06.94z\"/><path d=\"M17.41 7.96l-1.37-1.37c-.4-.4-.92-.59-1.43-.59-.52 0-1.04.2-1.43.59L10.3 9.45l-7.72 7.72c-.78.78-.78 2.05 0 2.83L4 21.41c.39.39.9.59 1.41.59.51 0 1.02-.2 1.41-.59l7.78-7.78 2.81-2.81c.8-.78.8-2.07 0-2.86zM5.41 20L4 18.59l7.72-7.72 1.47 1.35L5.41 20z\"/>\n",
              "  </svg>\n",
              "      </button>\n",
              "      \n",
              "  <style>\n",
              "    .colab-df-container {\n",
              "      display:flex;\n",
              "      flex-wrap:wrap;\n",
              "      gap: 12px;\n",
              "    }\n",
              "\n",
              "    .colab-df-convert {\n",
              "      background-color: #E8F0FE;\n",
              "      border: none;\n",
              "      border-radius: 50%;\n",
              "      cursor: pointer;\n",
              "      display: none;\n",
              "      fill: #1967D2;\n",
              "      height: 32px;\n",
              "      padding: 0 0 0 0;\n",
              "      width: 32px;\n",
              "    }\n",
              "\n",
              "    .colab-df-convert:hover {\n",
              "      background-color: #E2EBFA;\n",
              "      box-shadow: 0px 1px 2px rgba(60, 64, 67, 0.3), 0px 1px 3px 1px rgba(60, 64, 67, 0.15);\n",
              "      fill: #174EA6;\n",
              "    }\n",
              "\n",
              "    [theme=dark] .colab-df-convert {\n",
              "      background-color: #3B4455;\n",
              "      fill: #D2E3FC;\n",
              "    }\n",
              "\n",
              "    [theme=dark] .colab-df-convert:hover {\n",
              "      background-color: #434B5C;\n",
              "      box-shadow: 0px 1px 3px 1px rgba(0, 0, 0, 0.15);\n",
              "      filter: drop-shadow(0px 1px 2px rgba(0, 0, 0, 0.3));\n",
              "      fill: #FFFFFF;\n",
              "    }\n",
              "  </style>\n",
              "\n",
              "      <script>\n",
              "        const buttonEl =\n",
              "          document.querySelector('#df-d7db3725-66f5-4604-b38c-9503909526de button.colab-df-convert');\n",
              "        buttonEl.style.display =\n",
              "          google.colab.kernel.accessAllowed ? 'block' : 'none';\n",
              "\n",
              "        async function convertToInteractive(key) {\n",
              "          const element = document.querySelector('#df-d7db3725-66f5-4604-b38c-9503909526de');\n",
              "          const dataTable =\n",
              "            await google.colab.kernel.invokeFunction('convertToInteractive',\n",
              "                                                     [key], {});\n",
              "          if (!dataTable) return;\n",
              "\n",
              "          const docLinkHtml = 'Like what you see? Visit the ' +\n",
              "            '<a target=\"_blank\" href=https://colab.research.google.com/notebooks/data_table.ipynb>data table notebook</a>'\n",
              "            + ' to learn more about interactive tables.';\n",
              "          element.innerHTML = '';\n",
              "          dataTable['output_type'] = 'display_data';\n",
              "          await google.colab.output.renderOutput(dataTable, element);\n",
              "          const docLink = document.createElement('div');\n",
              "          docLink.innerHTML = docLinkHtml;\n",
              "          element.appendChild(docLink);\n",
              "        }\n",
              "      </script>\n",
              "    </div>\n",
              "  </div>\n",
              "  "
            ],
            "text/plain": [
              "Pclass          1          2         3\n",
              "Age     38.233441  29.877630  25.14062\n",
              "Fare    84.154687  20.662183  13.67555"
            ]
          },
          "metadata": {},
          "execution_count": 38
        }
      ]
    },
    {
      "cell_type": "markdown",
      "source": [
        "## **Scatter Plot**"
      ],
      "metadata": {
        "id": "VGlPtLYTUyGy"
      }
    },
    {
      "cell_type": "code",
      "source": [
        "ax = sns.scatterplot(x=\"Age\",y=\"Fare\",data=titanic_df)"
      ],
      "metadata": {
        "colab": {
          "base_uri": "https://localhost:8080/",
          "height": 279
        },
        "id": "JMCTkPyqUq1O",
        "outputId": "23d9d66f-947e-4c6b-b4ad-081a27c81c21"
      },
      "execution_count": null,
      "outputs": [
        {
          "output_type": "display_data",
          "data": {
            "image/png": "[encoded data removed]",
            "text/plain": [
              "<Figure size 432x288 with 1 Axes>"
            ]
          },
          "metadata": {
            "needs_background": "light"
          }
        }
      ]
    },
    {
      "cell_type": "markdown",
      "source": [
        "## **Bar, Stacked bar, dots and line charts**"
      ],
      "metadata": {
        "id": "XRzvHpRHVRTp"
      }
    },
    {
      "cell_type": "markdown",
      "source": [
        "**Bar Plot**\n",
        "\n",
        "A bar plot or bar chart is a graph that represents the category of data with rectangular bars with lengths and heights that is proportional to the values which they represent. The bar plots can be plotted horizontally or vertically. A bar chart describes the comparisons between the discrete categories. One of the axis of the plot represents the specific categories being compared, while the other axis represents the measured values corresponding to those categories."
      ],
      "metadata": {
        "id": "pf500y8uWa-7"
      }
    },
    {
      "cell_type": "code",
      "source": [
        "import matplotlib.pyplot as plt"
      ],
      "metadata": {
        "id": "XWc8fAltU9gf"
      },
      "execution_count": null,
      "outputs": []
    },
    {
      "cell_type": "code",
      "source": [
        "tips_df.head()"
      ],
      "metadata": {
        "colab": {
          "base_uri": "https://localhost:8080/",
          "height": 206
        },
        "id": "Zh5BtOweVpCv",
        "outputId": "f481fcdd-2f61-4114-9f1f-0dfa3d1d85bd"
      },
      "execution_count": null,
      "outputs": [
        {
          "output_type": "execute_result",
          "data": {
            "text/html": [
              "\n",
              "  <div id=\"df-c8885898-8c31-4f27-a408-2d71df8344ea\">\n",
              "    <div class=\"colab-df-container\">\n",
              "      <div>\n",
              "<style scoped>\n",
              "    .dataframe tbody tr th:only-of-type {\n",
              "        vertical-align: middle;\n",
              "    }\n",
              "\n",
              "    .dataframe tbody tr th {\n",
              "        vertical-align: top;\n",
              "    }\n",
              "\n",
              "    .dataframe thead th {\n",
              "        text-align: right;\n",
              "    }\n",
              "</style>\n",
              "<table border=\"1\" class=\"dataframe\">\n",
              "  <thead>\n",
              "    <tr style=\"text-align: right;\">\n",
              "      <th></th>\n",
              "      <th>total_bill</th>\n",
              "      <th>tip</th>\n",
              "      <th>sex</th>\n",
              "      <th>smoker</th>\n",
              "      <th>day</th>\n",
              "      <th>time</th>\n",
              "      <th>size</th>\n",
              "    </tr>\n",
              "  </thead>\n",
              "  <tbody>\n",
              "    <tr>\n",
              "      <th>0</th>\n",
              "      <td>16.99</td>\n",
              "      <td>1.01</td>\n",
              "      <td>Female</td>\n",
              "      <td>No</td>\n",
              "      <td>Sun</td>\n",
              "      <td>Dinner</td>\n",
              "      <td>2</td>\n",
              "    </tr>\n",
              "    <tr>\n",
              "      <th>1</th>\n",
              "      <td>10.34</td>\n",
              "      <td>1.66</td>\n",
              "      <td>Male</td>\n",
              "      <td>No</td>\n",
              "      <td>Sun</td>\n",
              "      <td>Dinner</td>\n",
              "      <td>3</td>\n",
              "    </tr>\n",
              "    <tr>\n",
              "      <th>2</th>\n",
              "      <td>21.01</td>\n",
              "      <td>3.50</td>\n",
              "      <td>Male</td>\n",
              "      <td>No</td>\n",
              "      <td>Sun</td>\n",
              "      <td>Dinner</td>\n",
              "      <td>3</td>\n",
              "    </tr>\n",
              "    <tr>\n",
              "      <th>3</th>\n",
              "      <td>23.68</td>\n",
              "      <td>3.31</td>\n",
              "      <td>Male</td>\n",
              "      <td>No</td>\n",
              "      <td>Sun</td>\n",
              "      <td>Dinner</td>\n",
              "      <td>2</td>\n",
              "    </tr>\n",
              "    <tr>\n",
              "      <th>4</th>\n",
              "      <td>24.59</td>\n",
              "      <td>3.61</td>\n",
              "      <td>Female</td>\n",
              "      <td>No</td>\n",
              "      <td>Sun</td>\n",
              "      <td>Dinner</td>\n",
              "      <td>4</td>\n",
              "    </tr>\n",
              "  </tbody>\n",
              "</table>\n",
              "</div>\n",
              "      <button class=\"colab-df-convert\" onclick=\"convertToInteractive('df-c8885898-8c31-4f27-a408-2d71df8344ea')\"\n",
              "              title=\"Convert this dataframe to an interactive table.\"\n",
              "              style=\"display:none;\">\n",
              "        \n",
              "  <svg xmlns=\"http://www.w3.org/2000/svg\" height=\"24px\"viewBox=\"0 0 24 24\"\n",
              "       width=\"24px\">\n",
              "    <path d=\"M0 0h24v24H0V0z\" fill=\"none\"/>\n",
              "    <path d=\"M18.56 5.44l.94 2.06.94-2.06 2.06-.94-2.06-.94-.94-2.06-.94 2.06-2.06.94zm-11 1L8.5 8.5l.94-2.06 2.06-.94-2.06-.94L8.5 2.5l-.94 2.06-2.06.94zm10 10l.94 2.06.94-2.06 2.06-.94-2.06-.94-.94-2.06-.94 2.06-2.06.94z\"/><path d=\"M17.41 7.96l-1.37-1.37c-.4-.4-.92-.59-1.43-.59-.52 0-1.04.2-1.43.59L10.3 9.45l-7.72 7.72c-.78.78-.78 2.05 0 2.83L4 21.41c.39.39.9.59 1.41.59.51 0 1.02-.2 1.41-.59l7.78-7.78 2.81-2.81c.8-.78.8-2.07 0-2.86zM5.41 20L4 18.59l7.72-7.72 1.47 1.35L5.41 20z\"/>\n",
              "  </svg>\n",
              "      </button>\n",
              "      \n",
              "  <style>\n",
              "    .colab-df-container {\n",
              "      display:flex;\n",
              "      flex-wrap:wrap;\n",
              "      gap: 12px;\n",
              "    }\n",
              "\n",
              "    .colab-df-convert {\n",
              "      background-color: #E8F0FE;\n",
              "      border: none;\n",
              "      border-radius: 50%;\n",
              "      cursor: pointer;\n",
              "      display: none;\n",
              "      fill: #1967D2;\n",
              "      height: 32px;\n",
              "      padding: 0 0 0 0;\n",
              "      width: 32px;\n",
              "    }\n",
              "\n",
              "    .colab-df-convert:hover {\n",
              "      background-color: #E2EBFA;\n",
              "      box-shadow: 0px 1px 2px rgba(60, 64, 67, 0.3), 0px 1px 3px 1px rgba(60, 64, 67, 0.15);\n",
              "      fill: #174EA6;\n",
              "    }\n",
              "\n",
              "    [theme=dark] .colab-df-convert {\n",
              "      background-color: #3B4455;\n",
              "      fill: #D2E3FC;\n",
              "    }\n",
              "\n",
              "    [theme=dark] .colab-df-convert:hover {\n",
              "      background-color: #434B5C;\n",
              "      box-shadow: 0px 1px 3px 1px rgba(0, 0, 0, 0.15);\n",
              "      filter: drop-shadow(0px 1px 2px rgba(0, 0, 0, 0.3));\n",
              "      fill: #FFFFFF;\n",
              "    }\n",
              "  </style>\n",
              "\n",
              "      <script>\n",
              "        const buttonEl =\n",
              "          document.querySelector('#df-c8885898-8c31-4f27-a408-2d71df8344ea button.colab-df-convert');\n",
              "        buttonEl.style.display =\n",
              "          google.colab.kernel.accessAllowed ? 'block' : 'none';\n",
              "\n",
              "        async function convertToInteractive(key) {\n",
              "          const element = document.querySelector('#df-c8885898-8c31-4f27-a408-2d71df8344ea');\n",
              "          const dataTable =\n",
              "            await google.colab.kernel.invokeFunction('convertToInteractive',\n",
              "                                                     [key], {});\n",
              "          if (!dataTable) return;\n",
              "\n",
              "          const docLinkHtml = 'Like what you see? Visit the ' +\n",
              "            '<a target=\"_blank\" href=https://colab.research.google.com/notebooks/data_table.ipynb>data table notebook</a>'\n",
              "            + ' to learn more about interactive tables.';\n",
              "          element.innerHTML = '';\n",
              "          dataTable['output_type'] = 'display_data';\n",
              "          await google.colab.output.renderOutput(dataTable, element);\n",
              "          const docLink = document.createElement('div');\n",
              "          docLink.innerHTML = docLinkHtml;\n",
              "          element.appendChild(docLink);\n",
              "        }\n",
              "      </script>\n",
              "    </div>\n",
              "  </div>\n",
              "  "
            ],
            "text/plain": [
              "   total_bill   tip     sex smoker  day    time  size\n",
              "0       16.99  1.01  Female     No  Sun  Dinner     2\n",
              "1       10.34  1.66    Male     No  Sun  Dinner     3\n",
              "2       21.01  3.50    Male     No  Sun  Dinner     3\n",
              "3       23.68  3.31    Male     No  Sun  Dinner     2\n",
              "4       24.59  3.61  Female     No  Sun  Dinner     4"
            ]
          },
          "metadata": {},
          "execution_count": 41
        }
      ]
    },
    {
      "cell_type": "code",
      "source": [
        "plt.bar(tips_df['time'],tips_df['total_bill'])\n",
        "plt.show()"
      ],
      "metadata": {
        "colab": {
          "base_uri": "https://localhost:8080/",
          "height": 265
        },
        "id": "pACDl9P9W5aP",
        "outputId": "b3f5bcf8-c6b2-4b5a-ae70-4f05993c8115"
      },
      "execution_count": null,
      "outputs": [
        {
          "output_type": "display_data",
          "data": {
            "image/png": "[encoded data removed]",
            "text/plain": [
              "<Figure size 432x288 with 1 Axes>"
            ]
          },
          "metadata": {
            "needs_background": "light"
          }
        }
      ]
    },
    {
      "cell_type": "code",
      "source": [
        "plt.bar(tips_df['sex'],tips_df['total_bill'])\n",
        "plt.show()"
      ],
      "metadata": {
        "colab": {
          "base_uri": "https://localhost:8080/",
          "height": 265
        },
        "id": "Go14iPdBXCXE",
        "outputId": "8f329532-9dd4-49cd-f83a-2831e5a21b57"
      },
      "execution_count": null,
      "outputs": [
        {
          "output_type": "display_data",
          "data": {
            "image/png": "[encoded data removed]",
            "text/plain": [
              "<Figure size 432x288 with 1 Axes>"
            ]
          },
          "metadata": {
            "needs_background": "light"
          }
        }
      ]
    },
    {
      "cell_type": "code",
      "source": [
        "plt.bar(tips_df['day'],tips_df['total_bill'])\n",
        "plt.show()"
      ],
      "metadata": {
        "colab": {
          "base_uri": "https://localhost:8080/",
          "height": 265
        },
        "id": "ZmcGxWF6XX2j",
        "outputId": "ec669ba5-56e8-4c35-b764-8ec72a69d531"
      },
      "execution_count": null,
      "outputs": [
        {
          "output_type": "display_data",
          "data": {
            "image/png": "[encoded data removed]",
            "text/plain": [
              "<Figure size 432x288 with 1 Axes>"
            ]
          },
          "metadata": {
            "needs_background": "light"
          }
        }
      ]
    },
    {
      "cell_type": "code",
      "source": [
        "x = np.array([\"A\",\"B\",\"c\"])\n",
        "y1 = np.array([10,20,30])\n",
        "y2 = np.array([40,50,60])\n",
        "plt.bar(x,y1,color='r')\n",
        "plt.bar(x,y2,bottom=y1,color='b')\n",
        "plt.legend(x)\n",
        "plt.show()\n"
      ],
      "metadata": {
        "colab": {
          "base_uri": "https://localhost:8080/",
          "height": 265
        },
        "id": "sjT4zNNSXbxL",
        "outputId": "06188036-fb75-4643-b03d-78b1a95e7550"
      },
      "execution_count": null,
      "outputs": [
        {
          "output_type": "display_data",
          "data": {
            "image/png": "[encoded data removed]",
            "text/plain": [
              "<Figure size 432x288 with 1 Axes>"
            ]
          },
          "metadata": {
            "needs_background": "light"
          }
        }
      ]
    },
    {
      "cell_type": "code",
      "source": [
        "x = np.arange(10)\n",
        "y = np.random.randint(10,20,10)"
      ],
      "metadata": {
        "id": "0yGfZSCGYXGC"
      },
      "execution_count": null,
      "outputs": []
    },
    {
      "cell_type": "code",
      "source": [
        "plt.plot(x,y,'ro')\n",
        "plt.show()"
      ],
      "metadata": {
        "colab": {
          "base_uri": "https://localhost:8080/",
          "height": 265
        },
        "id": "RwcD4JCzbGry",
        "outputId": "882ecf12-6394-4978-bc2a-286b0a4cf988"
      },
      "execution_count": null,
      "outputs": [
        {
          "output_type": "display_data",
          "data": {
            "image/png": "[encoded data removed]",
            "text/plain": [
              "<Figure size 432x288 with 1 Axes>"
            ]
          },
          "metadata": {
            "needs_background": "light"
          }
        }
      ]
    },
    {
      "cell_type": "code",
      "source": [
        "plt.plot(x,y,'g^')\n",
        "plt.show()"
      ],
      "metadata": {
        "colab": {
          "base_uri": "https://localhost:8080/",
          "height": 265
        },
        "id": "iAsRnYT1bKNs",
        "outputId": "cb2a8e07-7d0d-4e0c-d947-80e3e1f53062"
      },
      "execution_count": null,
      "outputs": [
        {
          "output_type": "display_data",
          "data": {
            "image/png": "[encoded data removed]",
            "text/plain": [
              "<Figure size 432x288 with 1 Axes>"
            ]
          },
          "metadata": {
            "needs_background": "light"
          }
        }
      ]
    },
    {
      "cell_type": "code",
      "source": [
        "plt.plot(x,y,'r-')\n",
        "plt.show()"
      ],
      "metadata": {
        "colab": {
          "base_uri": "https://localhost:8080/",
          "height": 265
        },
        "id": "e3F6nCeFbOmt",
        "outputId": "6648170b-7a6f-434c-d8c8-1e675e04c257"
      },
      "execution_count": null,
      "outputs": [
        {
          "output_type": "display_data",
          "data": {
            "image/png": "[encoded data removed]",
            "text/plain": [
              "<Figure size 432x288 with 1 Axes>"
            ]
          },
          "metadata": {
            "needs_background": "light"
          }
        }
      ]
    },
    {
      "cell_type": "code",
      "source": [
        "plt.plot(x,x,'r-')\n",
        "plt.plot(x,x**2,'g-')\n",
        "plt.plot(x,x**3,'y-')"
      ],
      "metadata": {
        "colab": {
          "base_uri": "https://localhost:8080/",
          "height": 283
        },
        "id": "2gsigW61bUgB",
        "outputId": "cfb03b31-f0ee-4b6e-d5ff-52f96a7e9d2d"
      },
      "execution_count": null,
      "outputs": [
        {
          "output_type": "execute_result",
          "data": {
            "text/plain": [
              "[<matplotlib.lines.Line2D at 0x7f0ff6fd6610>]"
            ]
          },
          "metadata": {},
          "execution_count": 50
        },
        {
          "output_type": "display_data",
          "data": {
            "image/png": "[encoded data removed]",
            "text/plain": [
              "<Figure size 432x288 with 1 Axes>"
            ]
          },
          "metadata": {
            "needs_background": "light"
          }
        }
      ]
    },
    {
      "cell_type": "code",
      "source": [
        "plt.plot(x,x,linestyle = 'dashed')\n",
        "plt.plot(x,x**2,linestyle = 'dotted')\n",
        "plt.plot(x,x**3,'y-')\n",
        "# plt.legend()\n",
        "plt.show()"
      ],
      "metadata": {
        "colab": {
          "base_uri": "https://localhost:8080/",
          "height": 265
        },
        "id": "0pNSYovMbb3A",
        "outputId": "a5782666-e4f6-4254-ce2d-5b5ff9a2dbb6"
      },
      "execution_count": null,
      "outputs": [
        {
          "output_type": "display_data",
          "data": {
            "image/png": "[encoded data removed]",
            "text/plain": [
              "<Figure size 432x288 with 1 Axes>"
            ]
          },
          "metadata": {
            "needs_background": "light"
          }
        }
      ]
    },
    {
      "cell_type": "markdown",
      "source": [
        "## **TREE MAP**\n",
        "\n",
        "What is a Treemap?\n",
        "\n",
        "Treemaps are used to visualize hierarchical data using rectangles nested together of varying sizes. The size of each rectangle is in proportion to the amount of data it represents out of the whole. These nested rectangles represent the branches of a tree and thus got their name. Apart from the sizes, each rectangle has unique color representing the unique category. Treemaps are widely used in industries ranging from Financial institutions to Sales organizations.\n",
        "\n",
        "Treemaps were first invented in the early 1990s by an American Professor, Ben Shneiderman at the University of Maryland Human-Computer Interaction Lab. The idea behind this visualization was to compare the quantities by size in a fixed space. Now, we will look at how to build a word cloud practically.\n",
        "\n",
        "When to use a Treemap?\n",
        "\n",
        "These are some key points to consider before using treemaps for visualization.\n",
        "\n",
        "- Treemaps work well when there is a clear ‘Part-to-whole’ relationship amongst multiple categories present in the data.\n",
        "\n",
        "- Hierarchical Data is needed. This indicates that the data could be arranged in branches and sub-branches. These can then be visualized using rectangles of different dimensions and using more than one color. All this is based on calculated values from the proportions of the quantitative variables.\n",
        "\n",
        "- The focus is not on precise comparisons between categories but rather on spotting the key factors/trends or patterns.\n",
        "\n",
        "\n",
        "Challenges associated with a Treemap\n",
        "\n",
        "Treemaps also come with a set of limitations as outlined below-\n",
        "\n",
        "- Treemaps built with large data points on a single level could be hard to read as well as print for reporting purposes.\n",
        "\n",
        "- Sometimes, additional sorting might be required to understand the data better. However, all the rectangles are automatically ordered within the parent node by area.\n",
        "\n",
        "- With too many categories and colors to represent these, the treemap becomes overwhelming for the reader.\n",
        "\n",
        "- Treemaps become ineffective for datasets with balanced trees i.e., when items are of a similar value. In these cases, the main purpose of a treemap of highlighting the largest item in a given category becomes impossible. In such cases, interactive treemaps are a better choice than static treemaps."
      ],
      "metadata": {
        "id": "vIhrOYxkw-F6"
      }
    },
    {
      "cell_type": "markdown",
      "source": [
        "![70306980px-United_States_presidential_election_in_Florida,_2016.svg.png](data:image/png;base64,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)"
      ],
      "metadata": {
        "id": "ef5WTuy3yzC9"
      }
    },
    {
      "cell_type": "code",
      "source": [
        "data = {'labels': [\"A\",\"B\",\"C\",\"D\",\"E\",\"F\",\"G\"],\n",
        "        'values':[10,20,25,35,10,25,45]}\n",
        "tree_df = pd.DataFrame(data)"
      ],
      "metadata": {
        "id": "SHMkNpL0b6DO"
      },
      "execution_count": null,
      "outputs": []
    },
    {
      "cell_type": "code",
      "source": [
        "tree_df"
      ],
      "metadata": {
        "colab": {
          "base_uri": "https://localhost:8080/",
          "height": 269
        },
        "id": "3ZQN4-SQxnTf",
        "outputId": "d7d07e23-98ec-4105-81e7-7a9577c6fc64"
      },
      "execution_count": null,
      "outputs": [
        {
          "output_type": "execute_result",
          "data": {
            "text/html": [
              "\n",
              "  <div id=\"df-0321512a-9892-41be-806c-ba667e9a32fd\">\n",
              "    <div class=\"colab-df-container\">\n",
              "      <div>\n",
              "<style scoped>\n",
              "    .dataframe tbody tr th:only-of-type {\n",
              "        vertical-align: middle;\n",
              "    }\n",
              "\n",
              "    .dataframe tbody tr th {\n",
              "        vertical-align: top;\n",
              "    }\n",
              "\n",
              "    .dataframe thead th {\n",
              "        text-align: right;\n",
              "    }\n",
              "</style>\n",
              "<table border=\"1\" class=\"dataframe\">\n",
              "  <thead>\n",
              "    <tr style=\"text-align: right;\">\n",
              "      <th></th>\n",
              "      <th>labels</th>\n",
              "      <th>values</th>\n",
              "    </tr>\n",
              "  </thead>\n",
              "  <tbody>\n",
              "    <tr>\n",
              "      <th>0</th>\n",
              "      <td>A</td>\n",
              "      <td>10</td>\n",
              "    </tr>\n",
              "    <tr>\n",
              "      <th>1</th>\n",
              "      <td>B</td>\n",
              "      <td>20</td>\n",
              "    </tr>\n",
              "    <tr>\n",
              "      <th>2</th>\n",
              "      <td>C</td>\n",
              "      <td>25</td>\n",
              "    </tr>\n",
              "    <tr>\n",
              "      <th>3</th>\n",
              "      <td>D</td>\n",
              "      <td>35</td>\n",
              "    </tr>\n",
              "    <tr>\n",
              "      <th>4</th>\n",
              "      <td>E</td>\n",
              "      <td>10</td>\n",
              "    </tr>\n",
              "    <tr>\n",
              "      <th>5</th>\n",
              "      <td>F</td>\n",
              "      <td>25</td>\n",
              "    </tr>\n",
              "    <tr>\n",
              "      <th>6</th>\n",
              "      <td>G</td>\n",
              "      <td>45</td>\n",
              "    </tr>\n",
              "  </tbody>\n",
              "</table>\n",
              "</div>\n",
              "      <button class=\"colab-df-convert\" onclick=\"convertToInteractive('df-0321512a-9892-41be-806c-ba667e9a32fd')\"\n",
              "              title=\"Convert this dataframe to an interactive table.\"\n",
              "              style=\"display:none;\">\n",
              "        \n",
              "  <svg xmlns=\"http://www.w3.org/2000/svg\" height=\"24px\"viewBox=\"0 0 24 24\"\n",
              "       width=\"24px\">\n",
              "    <path d=\"M0 0h24v24H0V0z\" fill=\"none\"/>\n",
              "    <path d=\"M18.56 5.44l.94 2.06.94-2.06 2.06-.94-2.06-.94-.94-2.06-.94 2.06-2.06.94zm-11 1L8.5 8.5l.94-2.06 2.06-.94-2.06-.94L8.5 2.5l-.94 2.06-2.06.94zm10 10l.94 2.06.94-2.06 2.06-.94-2.06-.94-.94-2.06-.94 2.06-2.06.94z\"/><path d=\"M17.41 7.96l-1.37-1.37c-.4-.4-.92-.59-1.43-.59-.52 0-1.04.2-1.43.59L10.3 9.45l-7.72 7.72c-.78.78-.78 2.05 0 2.83L4 21.41c.39.39.9.59 1.41.59.51 0 1.02-.2 1.41-.59l7.78-7.78 2.81-2.81c.8-.78.8-2.07 0-2.86zM5.41 20L4 18.59l7.72-7.72 1.47 1.35L5.41 20z\"/>\n",
              "  </svg>\n",
              "      </button>\n",
              "      \n",
              "  <style>\n",
              "    .colab-df-container {\n",
              "      display:flex;\n",
              "      flex-wrap:wrap;\n",
              "      gap: 12px;\n",
              "    }\n",
              "\n",
              "    .colab-df-convert {\n",
              "      background-color: #E8F0FE;\n",
              "      border: none;\n",
              "      border-radius: 50%;\n",
              "      cursor: pointer;\n",
              "      display: none;\n",
              "      fill: #1967D2;\n",
              "      height: 32px;\n",
              "      padding: 0 0 0 0;\n",
              "      width: 32px;\n",
              "    }\n",
              "\n",
              "    .colab-df-convert:hover {\n",
              "      background-color: #E2EBFA;\n",
              "      box-shadow: 0px 1px 2px rgba(60, 64, 67, 0.3), 0px 1px 3px 1px rgba(60, 64, 67, 0.15);\n",
              "      fill: #174EA6;\n",
              "    }\n",
              "\n",
              "    [theme=dark] .colab-df-convert {\n",
              "      background-color: #3B4455;\n",
              "      fill: #D2E3FC;\n",
              "    }\n",
              "\n",
              "    [theme=dark] .colab-df-convert:hover {\n",
              "      background-color: #434B5C;\n",
              "      box-shadow: 0px 1px 3px 1px rgba(0, 0, 0, 0.15);\n",
              "      filter: drop-shadow(0px 1px 2px rgba(0, 0, 0, 0.3));\n",
              "      fill: #FFFFFF;\n",
              "    }\n",
              "  </style>\n",
              "\n",
              "      <script>\n",
              "        const buttonEl =\n",
              "          document.querySelector('#df-0321512a-9892-41be-806c-ba667e9a32fd button.colab-df-convert');\n",
              "        buttonEl.style.display =\n",
              "          google.colab.kernel.accessAllowed ? 'block' : 'none';\n",
              "\n",
              "        async function convertToInteractive(key) {\n",
              "          const element = document.querySelector('#df-0321512a-9892-41be-806c-ba667e9a32fd');\n",
              "          const dataTable =\n",
              "            await google.colab.kernel.invokeFunction('convertToInteractive',\n",
              "                                                     [key], {});\n",
              "          if (!dataTable) return;\n",
              "\n",
              "          const docLinkHtml = 'Like what you see? Visit the ' +\n",
              "            '<a target=\"_blank\" href=https://colab.research.google.com/notebooks/data_table.ipynb>data table notebook</a>'\n",
              "            + ' to learn more about interactive tables.';\n",
              "          element.innerHTML = '';\n",
              "          dataTable['output_type'] = 'display_data';\n",
              "          await google.colab.output.renderOutput(dataTable, element);\n",
              "          const docLink = document.createElement('div');\n",
              "          docLink.innerHTML = docLinkHtml;\n",
              "          element.appendChild(docLink);\n",
              "        }\n",
              "      </script>\n",
              "    </div>\n",
              "  </div>\n",
              "  "
            ],
            "text/plain": [
              "  labels  values\n",
              "0      A      10\n",
              "1      B      20\n",
              "2      C      25\n",
              "3      D      35\n",
              "4      E      10\n",
              "5      F      25\n",
              "6      G      45"
            ]
          },
          "metadata": {},
          "execution_count": 53
        }
      ]
    },
    {
      "cell_type": "code",
      "source": [
        "colors = [\"blue\",\"green\",\"red\",\"cyan\",\"magenta\",\"yellow\",\"black\"]\n",
        "len(colors)"
      ],
      "metadata": {
        "colab": {
          "base_uri": "https://localhost:8080/"
        },
        "id": "6OaSAL9oxpOb",
        "outputId": "bc15d3ff-dc74-4ea3-8a31-b16751c256b1"
      },
      "execution_count": null,
      "outputs": [
        {
          "output_type": "execute_result",
          "data": {
            "text/plain": [
              "7"
            ]
          },
          "metadata": {},
          "execution_count": 54
        }
      ]
    },
    {
      "cell_type": "code",
      "source": [],
      "metadata": {
        "id": "OAYSsf1byTE7"
      },
      "execution_count": null,
      "outputs": []
    }
  ]
}