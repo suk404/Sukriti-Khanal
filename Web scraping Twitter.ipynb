{
  "nbformat": 4,
  "nbformat_minor": 0,
  "metadata": {
    "colab": {
      "provenance": []
    },
    "kernelspec": {
      "name": "python3",
      "display_name": "Python 3"
    },
    "language_info": {
      "name": "python"
    }
  },
  "cells": [
    {
      "cell_type": "code",
      "execution_count": null,
      "metadata": {
        "colab": {
          "base_uri": "https://localhost:8080/"
        },
        "id": "QJQvKOvlRWR-",
        "outputId": "b462a339-3f8e-4908-a17d-cef4f8745a75"
      },
      "outputs": [
        {
          "output_type": "stream",
          "name": "stdout",
          "text": [
            "Requirement already satisfied: tweepy in /usr/local/lib/python3.7/dist-packages (3.10.0)\n",
            "Requirement already satisfied: requests-oauthlib>=0.7.0 in /usr/local/lib/python3.7/dist-packages (from tweepy) (1.3.1)\n",
            "Requirement already satisfied: requests[socks]>=2.11.1 in /usr/local/lib/python3.7/dist-packages (from tweepy) (2.23.0)\n",
            "Requirement already satisfied: six>=1.10.0 in /usr/local/lib/python3.7/dist-packages (from tweepy) (1.15.0)\n",
            "Requirement already satisfied: oauthlib>=3.0.0 in /usr/local/lib/python3.7/dist-packages (from requests-oauthlib>=0.7.0->tweepy) (3.2.0)\n",
            "Requirement already satisfied: urllib3!=1.25.0,!=1.25.1,<1.26,>=1.21.1 in /usr/local/lib/python3.7/dist-packages (from requests[socks]>=2.11.1->tweepy) (1.24.3)\n",
            "Requirement already satisfied: certifi>=2017.4.17 in /usr/local/lib/python3.7/dist-packages (from requests[socks]>=2.11.1->tweepy) (2021.10.8)\n",
            "Requirement already satisfied: idna<3,>=2.5 in /usr/local/lib/python3.7/dist-packages (from requests[socks]>=2.11.1->tweepy) (2.10)\n",
            "Requirement already satisfied: chardet<4,>=3.0.2 in /usr/local/lib/python3.7/dist-packages (from requests[socks]>=2.11.1->tweepy) (3.0.4)\n",
            "Requirement already satisfied: PySocks!=1.5.7,>=1.5.6 in /usr/local/lib/python3.7/dist-packages (from requests[socks]>=2.11.1->tweepy) (1.7.1)\n"
          ]
        }
      ],
      "source": [
        "!pip install tweepy"
      ]
    },
    {
      "cell_type": "code",
      "source": [
        "import tweepy\n",
        "# from tweepy import OAuthHandler\n",
        "# from tweepy import API\n",
        "# from textblob import TextBlob\n",
        "# from wordcloud import WordCloud\n",
        "import configparser\n",
        "import pandas as pd\n",
        "import numpy as np\n",
        "import re\n",
        "import matplotlib.pyplot as plt\n",
        "import seaborn as sns\n"
      ],
      "metadata": {
        "id": "jpmtcEIDRc28"
      },
      "execution_count": null,
      "outputs": []
    },
    {
      "cell_type": "markdown",
      "source": [
        "**Twitter Trend Analysis of a particular place**"
      ],
      "metadata": {
        "id": "nZlYODEoTi_q"
      }
    },
    {
      "cell_type": "code",
      "source": [
        "consumer_keys= \"r1HX5DwY8ijJk5xeVV5O88hf3\"\n",
        "consumer_secret= \"ObyoZecOaClWExYWfMi46mB6xZouq1ZmMDaoCS6xYI4lhljp9t\"\n",
        "access_token= \"3032908566-UeKqzHNMtLnmbcmeTRjs5RO8Cy9dUMnxD7LrSgF\"\n",
        "accesstoken_secret= \"9MEBYfxif7eueYnJ5ezej71FNcKXA56aMIetqOEIg5zDU\""
      ],
      "metadata": {
        "id": "C5GfBH_zVUHl"
      },
      "execution_count": null,
      "outputs": []
    },
    {
      "cell_type": "code",
      "source": [
        "auth = tweepy.OAuthHandler(consumer_keys,consumer_secret)\n",
        "auth.set_access_token(access_token,accesstoken_secret)\n",
        "api= tweepy.API(auth)"
      ],
      "metadata": {
        "id": "j5kXTFjXRrDh"
      },
      "execution_count": null,
      "outputs": []
    },
    {
      "cell_type": "markdown",
      "source": [
        "# **Twitter trend analysis (TTA)**\n",
        "TTA takes up the data from twitter using the library 'tweepy'. And then, performs an analysis on the twitter data based on the tweet counts to come up with the twitter trending data. The tweet trend can be different in different countries. So, if you want to have a look on the twitter trends in your country, you need a \"WOEID\". You can access it here. (https://www.findmecity.com/)"
      ],
      "metadata": {
        "id": "jdA909rG8ufB"
      }
    },
    {
      "cell_type": "markdown",
      "source": [
        "## **What is included in this notebook?**\n",
        "In this notebook, you can view the twitter trend analysis on various regions:\n",
        "1.   World Tweets Data\n",
        "2.   Multiple countries separate twitter trend data\n",
        "3.   Multiple countries twitter trends in a single frame\n",
        "4.   Home page public tweets\n",
        "\n"
      ],
      "metadata": {
        "id": "nXm_5hz2QEmd"
      }
    },
    {
      "cell_type": "markdown",
      "source": [
        "### Twitter trend of the world\n",
        "You can use the WOEID as 1 for the twitter trend data of the world.\n"
      ],
      "metadata": {
        "id": "mUIc3ufc__2U"
      }
    },
    {
      "cell_type": "code",
      "source": [
        "world_woe_id= 1\n",
        "trend_result=api.trends_place(world_woe_id)\n"
      ],
      "metadata": {
        "id": "m1NtV4cs0LE9"
      },
      "execution_count": null,
      "outputs": []
    },
    {
      "cell_type": "markdown",
      "source": [
        "These are the trend results of the world tweets for today."
      ],
      "metadata": {
        "id": "mWKVZ-OHBOeH"
      }
    },
    {
      "cell_type": "code",
      "source": [
        "trend_result"
      ],
      "metadata": {
        "colab": {
          "base_uri": "https://localhost:8080/"
        },
        "id": "yxaWLpIqAsmQ",
        "outputId": "888975da-9484-4b82-faf8-d38ac255ad3e"
      },
      "execution_count": null,
      "outputs": [
        {
          "output_type": "execute_result",
          "data": {
            "text/plain": [
              "[{'as_of': '2022-02-18T09:34:00Z',\n",
              "  'created_at': '2022-02-17T03:35:05Z',\n",
              "  'locations': [{'name': 'Worldwide', 'woeid': 1}],\n",
              "  'trends': [{'name': '#StormEunice',\n",
              "    'promoted_content': None,\n",
              "    'query': '%23StormEunice',\n",
              "    'tweet_volume': 82605,\n",
              "    'url': 'http://twitter.com/search?q=%23StormEunice'},\n",
              "   {'name': '#TarkanYalnızDeğildir',\n",
              "    'promoted_content': None,\n",
              "    'query': '%23TarkanYaln%C4%B1zDe%C4%9Fildir',\n",
              "    'tweet_volume': 16079,\n",
              "    'url': 'http://twitter.com/search?q=%23TarkanYaln%C4%B1zDe%C4%9Fildir'},\n",
              "   {'name': '#Gitcek',\n",
              "    'promoted_content': None,\n",
              "    'query': '%23Gitcek',\n",
              "    'tweet_volume': 35730,\n",
              "    'url': 'http://twitter.com/search?q=%23Gitcek'},\n",
              "   {'name': '#日曜日はおうちde物産展',\n",
              "    'promoted_content': None,\n",
              "    'query': '%23%E6%97%A5%E6%9B%9C%E6%97%A5%E3%81%AF%E3%81%8A%E3%81%86%E3%81%A1de%E7%89%A9%E7%94%A3%E5%B1%95',\n",
              "    'tweet_volume': None,\n",
              "    'url': 'http://twitter.com/search?q=%23%E6%97%A5%E6%9B%9C%E6%97%A5%E3%81%AF%E3%81%8A%E3%81%86%E3%81%A1de%E7%89%A9%E7%94%A3%E5%B1%95'},\n",
              "   {'name': '拷問部屋',\n",
              "    'promoted_content': None,\n",
              "    'query': '%E6%8B%B7%E5%95%8F%E9%83%A8%E5%B1%8B',\n",
              "    'tweet_volume': None,\n",
              "    'url': 'http://twitter.com/search?q=%E6%8B%B7%E5%95%8F%E9%83%A8%E5%B1%8B'},\n",
              "   {'name': 'Wordle 244 X',\n",
              "    'promoted_content': None,\n",
              "    'query': '%22Wordle+244+X%22',\n",
              "    'tweet_volume': 10423,\n",
              "    'url': 'http://twitter.com/search?q=%22Wordle+244+X%22'},\n",
              "   {'name': '#FridayFeeling',\n",
              "    'promoted_content': None,\n",
              "    'query': '%23FridayFeeling',\n",
              "    'tweet_volume': 16002,\n",
              "    'url': 'http://twitter.com/search?q=%23FridayFeeling'},\n",
              "   {'name': 'OUR LOVE FOR SUNGHOON',\n",
              "    'promoted_content': None,\n",
              "    'query': '%22OUR+LOVE+FOR+SUNGHOON%22',\n",
              "    'tweet_volume': 44255,\n",
              "    'url': 'http://twitter.com/search?q=%22OUR+LOVE+FOR+SUNGHOON%22'},\n",
              "   {'name': '視聴覚室',\n",
              "    'promoted_content': None,\n",
              "    'query': '%E8%A6%96%E8%81%B4%E8%A6%9A%E5%AE%A4',\n",
              "    'tweet_volume': None,\n",
              "    'url': 'http://twitter.com/search?q=%E8%A6%96%E8%81%B4%E8%A6%9A%E5%AE%A4'},\n",
              "   {'name': 'ソロ3曲目',\n",
              "    'promoted_content': None,\n",
              "    'query': '%E3%82%BD%E3%83%AD3%E6%9B%B2%E7%9B%AE',\n",
              "    'tweet_volume': None,\n",
              "    'url': 'http://twitter.com/search?q=%E3%82%BD%E3%83%AD3%E6%9B%B2%E7%9B%AE'},\n",
              "   {'name': 'Lucas',\n",
              "    'promoted_content': None,\n",
              "    'query': 'Lucas',\n",
              "    'tweet_volume': 240575,\n",
              "    'url': 'http://twitter.com/search?q=Lucas'},\n",
              "   {'name': '子供部屋',\n",
              "    'promoted_content': None,\n",
              "    'query': '%E5%AD%90%E4%BE%9B%E9%83%A8%E5%B1%8B',\n",
              "    'tweet_volume': None,\n",
              "    'url': 'http://twitter.com/search?q=%E5%AD%90%E4%BE%9B%E9%83%A8%E5%B1%8B'},\n",
              "   {'name': 'Bhagat Singh',\n",
              "    'promoted_content': None,\n",
              "    'query': '%22Bhagat+Singh%22',\n",
              "    'tweet_volume': None,\n",
              "    'url': 'http://twitter.com/search?q=%22Bhagat+Singh%22'},\n",
              "   {'name': '松木くん',\n",
              "    'promoted_content': None,\n",
              "    'query': '%E6%9D%BE%E6%9C%A8%E3%81%8F%E3%82%93',\n",
              "    'tweet_volume': None,\n",
              "    'url': 'http://twitter.com/search?q=%E6%9D%BE%E6%9C%A8%E3%81%8F%E3%82%93'},\n",
              "   {'name': 'ベランダ',\n",
              "    'promoted_content': None,\n",
              "    'query': '%E3%83%99%E3%83%A9%E3%83%B3%E3%83%80',\n",
              "    'tweet_volume': None,\n",
              "    'url': 'http://twitter.com/search?q=%E3%83%99%E3%83%A9%E3%83%B3%E3%83%80'},\n",
              "   {'name': '暴力団幹部とYouTuber組員ら逮捕',\n",
              "    'promoted_content': None,\n",
              "    'query': '%E6%9A%B4%E5%8A%9B%E5%9B%A3%E5%B9%B9%E9%83%A8%E3%81%A8YouTuber%E7%B5%84%E5%93%A1%E3%82%89%E9%80%AE%E6%8D%95',\n",
              "    'tweet_volume': None,\n",
              "    'url': 'http://twitter.com/search?q=%E6%9A%B4%E5%8A%9B%E5%9B%A3%E5%B9%B9%E9%83%A8%E3%81%A8YouTuber%E7%B5%84%E5%93%A1%E3%82%89%E9%80%AE%E6%8D%95'},\n",
              "   {'name': 'Peaky Peaky',\n",
              "    'promoted_content': None,\n",
              "    'query': '%22Peaky+Peaky%22',\n",
              "    'tweet_volume': 24737,\n",
              "    'url': 'http://twitter.com/search?q=%22Peaky+Peaky%22'},\n",
              "   {'name': '警視庁初摘発',\n",
              "    'promoted_content': None,\n",
              "    'query': '%E8%AD%A6%E8%A6%96%E5%BA%81%E5%88%9D%E6%91%98%E7%99%BA',\n",
              "    'tweet_volume': None,\n",
              "    'url': 'http://twitter.com/search?q=%E8%AD%A6%E8%A6%96%E5%BA%81%E5%88%9D%E6%91%98%E7%99%BA'},\n",
              "   {'name': '日本人の覚醒剤製造',\n",
              "    'promoted_content': None,\n",
              "    'query': '%E6%97%A5%E6%9C%AC%E4%BA%BA%E3%81%AE%E8%A6%9A%E9%86%92%E5%89%A4%E8%A3%BD%E9%80%A0',\n",
              "    'tweet_volume': None,\n",
              "    'url': 'http://twitter.com/search?q=%E6%97%A5%E6%9C%AC%E4%BA%BA%E3%81%AE%E8%A6%9A%E9%86%92%E5%89%A4%E8%A3%BD%E9%80%A0'},\n",
              "   {'name': 'おれのズボン',\n",
              "    'promoted_content': None,\n",
              "    'query': '%E3%81%8A%E3%82%8C%E3%81%AE%E3%82%BA%E3%83%9C%E3%83%B3',\n",
              "    'tweet_volume': None,\n",
              "    'url': 'http://twitter.com/search?q=%E3%81%8A%E3%82%8C%E3%81%AE%E3%82%BA%E3%83%9C%E3%83%B3'},\n",
              "   {'name': 'KDLEX WITH SQUADPLUS',\n",
              "    'promoted_content': None,\n",
              "    'query': '%22KDLEX+WITH+SQUADPLUS%22',\n",
              "    'tweet_volume': 36260,\n",
              "    'url': 'http://twitter.com/search?q=%22KDLEX+WITH+SQUADPLUS%22'},\n",
              "   {'name': \"Johnny's Village\",\n",
              "    'promoted_content': None,\n",
              "    'query': '%22Johnny%27s+Village%22',\n",
              "    'tweet_volume': None,\n",
              "    'url': 'http://twitter.com/search?q=%22Johnny%27s+Village%22'},\n",
              "   {'name': 'Justine Braisaz',\n",
              "    'promoted_content': None,\n",
              "    'query': '%22Justine+Braisaz%22',\n",
              "    'tweet_volume': None,\n",
              "    'url': 'http://twitter.com/search?q=%22Justine+Braisaz%22'},\n",
              "   {'name': 'Donda 2',\n",
              "    'promoted_content': None,\n",
              "    'query': '%22Donda+2%22',\n",
              "    'tweet_volume': None,\n",
              "    'url': 'http://twitter.com/search?q=%22Donda+2%22'},\n",
              "   {'name': 'Rakuten Hand',\n",
              "    'promoted_content': None,\n",
              "    'query': '%22Rakuten+Hand%22',\n",
              "    'tweet_volume': None,\n",
              "    'url': 'http://twitter.com/search?q=%22Rakuten+Hand%22'},\n",
              "   {'name': 'Nonku',\n",
              "    'promoted_content': None,\n",
              "    'query': 'Nonku',\n",
              "    'tweet_volume': None,\n",
              "    'url': 'http://twitter.com/search?q=Nonku'},\n",
              "   {'name': 'Mrs Smeg',\n",
              "    'promoted_content': None,\n",
              "    'query': '%22Mrs+Smeg%22',\n",
              "    'tweet_volume': None,\n",
              "    'url': 'http://twitter.com/search?q=%22Mrs+Smeg%22'},\n",
              "   {'name': '당신 이야기',\n",
              "    'promoted_content': None,\n",
              "    'query': '%22%EB%8B%B9%EC%8B%A0+%EC%9D%B4%EC%95%BC%EA%B8%B0%22',\n",
              "    'tweet_volume': None,\n",
              "    'url': 'http://twitter.com/search?q=%22%EB%8B%B9%EC%8B%A0+%EC%9D%B4%EC%95%BC%EA%B8%B0%22'},\n",
              "   {'name': '대신 전해',\n",
              "    'promoted_content': None,\n",
              "    'query': '%22%EB%8C%80%EC%8B%A0+%EC%A0%84%ED%95%B4%22',\n",
              "    'tweet_volume': None,\n",
              "    'url': 'http://twitter.com/search?q=%22%EB%8C%80%EC%8B%A0+%EC%A0%84%ED%95%B4%22'},\n",
              "   {'name': '여고추리반',\n",
              "    'promoted_content': None,\n",
              "    'query': '%EC%97%AC%EA%B3%A0%EC%B6%94%EB%A6%AC%EB%B0%98',\n",
              "    'tweet_volume': None,\n",
              "    'url': 'http://twitter.com/search?q=%EC%97%AC%EA%B3%A0%EC%B6%94%EB%A6%AC%EB%B0%98'},\n",
              "   {'name': '自爆デッキ',\n",
              "    'promoted_content': None,\n",
              "    'query': '%E8%87%AA%E7%88%86%E3%83%87%E3%83%83%E3%82%AD',\n",
              "    'tweet_volume': 52868,\n",
              "    'url': 'http://twitter.com/search?q=%E8%87%AA%E7%88%86%E3%83%87%E3%83%83%E3%82%AD'},\n",
              "   {'name': '超大作怪獣映画',\n",
              "    'promoted_content': None,\n",
              "    'query': '%E8%B6%85%E5%A4%A7%E4%BD%9C%E6%80%AA%E7%8D%A3%E6%98%A0%E7%94%BB',\n",
              "    'tweet_volume': None,\n",
              "    'url': 'http://twitter.com/search?q=%E8%B6%85%E5%A4%A7%E4%BD%9C%E6%80%AA%E7%8D%A3%E6%98%A0%E7%94%BB'},\n",
              "   {'name': '島村卯月',\n",
              "    'promoted_content': None,\n",
              "    'query': '%E5%B3%B6%E6%9D%91%E5%8D%AF%E6%9C%88',\n",
              "    'tweet_volume': None,\n",
              "    'url': 'http://twitter.com/search?q=%E5%B3%B6%E6%9D%91%E5%8D%AF%E6%9C%88'},\n",
              "   {'name': '松木玖生',\n",
              "    'promoted_content': None,\n",
              "    'query': '%E6%9D%BE%E6%9C%A8%E7%8E%96%E7%94%9F',\n",
              "    'tweet_volume': None,\n",
              "    'url': 'http://twitter.com/search?q=%E6%9D%BE%E6%9C%A8%E7%8E%96%E7%94%9F'},\n",
              "   {'name': 'Porthcawl',\n",
              "    'promoted_content': None,\n",
              "    'query': 'Porthcawl',\n",
              "    'tweet_volume': None,\n",
              "    'url': 'http://twitter.com/search?q=Porthcawl'},\n",
              "   {'name': 'B.I COSMOS ON TINGGROUND LIVE',\n",
              "    'promoted_content': None,\n",
              "    'query': '%22B.I+COSMOS+ON+TINGGROUND+LIVE%22',\n",
              "    'tweet_volume': None,\n",
              "    'url': 'http://twitter.com/search?q=%22B.I+COSMOS+ON+TINGGROUND+LIVE%22'},\n",
              "   {'name': '鬱アニメ',\n",
              "    'promoted_content': None,\n",
              "    'query': '%E9%AC%B1%E3%82%A2%E3%83%8B%E3%83%A1',\n",
              "    'tweet_volume': None,\n",
              "    'url': 'http://twitter.com/search?q=%E9%AC%B1%E3%82%A2%E3%83%8B%E3%83%A1'},\n",
              "   {'name': '¥34,000',\n",
              "    'promoted_content': None,\n",
              "    'query': '%C2%A534%2C000',\n",
              "    'tweet_volume': None,\n",
              "    'url': 'http://twitter.com/search?q=%C2%A534%2C000'},\n",
              "   {'name': 'レトさん',\n",
              "    'promoted_content': None,\n",
              "    'query': '%E3%83%AC%E3%83%88%E3%81%95%E3%82%93',\n",
              "    'tweet_volume': None,\n",
              "    'url': 'http://twitter.com/search?q=%E3%83%AC%E3%83%88%E3%81%95%E3%82%93'},\n",
              "   {'name': '¥63,000',\n",
              "    'promoted_content': None,\n",
              "    'query': '%C2%A563%2C000',\n",
              "    'tweet_volume': 15520,\n",
              "    'url': 'http://twitter.com/search?q=%C2%A563%2C000'},\n",
              "   {'name': 'ジャニビレ',\n",
              "    'promoted_content': None,\n",
              "    'query': '%E3%82%B8%E3%83%A3%E3%83%8B%E3%83%93%E3%83%AC',\n",
              "    'tweet_volume': None,\n",
              "    'url': 'http://twitter.com/search?q=%E3%82%B8%E3%83%A3%E3%83%8B%E3%83%93%E3%83%AC'},\n",
              "   {'name': 'WE CHOOSE ZACHAM',\n",
              "    'promoted_content': None,\n",
              "    'query': '%22WE+CHOOSE+ZACHAM%22',\n",
              "    'tweet_volume': None,\n",
              "    'url': 'http://twitter.com/search?q=%22WE+CHOOSE+ZACHAM%22'},\n",
              "   {'name': 'ノゲノラ',\n",
              "    'promoted_content': None,\n",
              "    'query': '%E3%83%8E%E3%82%B2%E3%83%8E%E3%83%A9',\n",
              "    'tweet_volume': None,\n",
              "    'url': 'http://twitter.com/search?q=%E3%83%8E%E3%82%B2%E3%83%8E%E3%83%A9'},\n",
              "   {'name': 'علي محمد',\n",
              "    'promoted_content': None,\n",
              "    'query': '%22%D8%B9%D9%84%D9%8A+%D9%85%D8%AD%D9%85%D8%AF%22',\n",
              "    'tweet_volume': 306424,\n",
              "    'url': 'http://twitter.com/search?q=%22%D8%B9%D9%84%D9%8A+%D9%85%D8%AD%D9%85%D8%AF%22'},\n",
              "   {'name': 'Mustafa İslamoğlu',\n",
              "    'promoted_content': None,\n",
              "    'query': '%22Mustafa+%C4%B0slamo%C4%9Flu%22',\n",
              "    'tweet_volume': None,\n",
              "    'url': 'http://twitter.com/search?q=%22Mustafa+%C4%B0slamo%C4%9Flu%22'},\n",
              "   {'name': '廃止賛成ゼロ',\n",
              "    'promoted_content': None,\n",
              "    'query': '%E5%BB%83%E6%AD%A2%E8%B3%9B%E6%88%90%E3%82%BC%E3%83%AD',\n",
              "    'tweet_volume': None,\n",
              "    'url': 'http://twitter.com/search?q=%E5%BB%83%E6%AD%A2%E8%B3%9B%E6%88%90%E3%82%BC%E3%83%AD'},\n",
              "   {'name': 'ヨンフェス',\n",
              "    'promoted_content': None,\n",
              "    'query': '%E3%83%A8%E3%83%B3%E3%83%95%E3%82%A7%E3%82%B9',\n",
              "    'tweet_volume': None,\n",
              "    'url': 'http://twitter.com/search?q=%E3%83%A8%E3%83%B3%E3%83%95%E3%82%A7%E3%82%B9'},\n",
              "   {'name': 'Rakuten Mini',\n",
              "    'promoted_content': None,\n",
              "    'query': '%22Rakuten+Mini%22',\n",
              "    'tweet_volume': None,\n",
              "    'url': 'http://twitter.com/search?q=%22Rakuten+Mini%22'},\n",
              "   {'name': '#geccek',\n",
              "    'promoted_content': None,\n",
              "    'query': '%23geccek',\n",
              "    'tweet_volume': 152819,\n",
              "    'url': 'http://twitter.com/search?q=%23geccek'},\n",
              "   {'name': '#HayırlıCumalar',\n",
              "    'promoted_content': None,\n",
              "    'query': '%23Hay%C4%B1rl%C4%B1Cumalar',\n",
              "    'tweet_volume': 21753,\n",
              "    'url': 'http://twitter.com/search?q=%23Hay%C4%B1rl%C4%B1Cumalar'}]}]"
            ]
          },
          "metadata": {},
          "execution_count": 109
        }
      ]
    },
    {
      "cell_type": "code",
      "source": [
        "name_list=[]\n",
        "tweets_list=[]\n",
        "for trend in trend_result[0][\"trends\"][:10]:\n",
        "  if trend[\"tweet_volume\"]:\n",
        "    name_list.append(trend[\"name\"])\n",
        "    tweets_list.append(trend[\"tweet_volume\"])"
      ],
      "metadata": {
        "id": "2hn8qmsoA4Ks"
      },
      "execution_count": null,
      "outputs": []
    },
    {
      "cell_type": "code",
      "source": [
        "name=np.array(name_list)\n",
        "tweets=np.array(tweets_list)"
      ],
      "metadata": {
        "id": "3GkzwJwHAQ21"
      },
      "execution_count": null,
      "outputs": []
    },
    {
      "cell_type": "code",
      "source": [
        "name"
      ],
      "metadata": {
        "colab": {
          "base_uri": "https://localhost:8080/"
        },
        "id": "CZpDPwkFBEoT",
        "outputId": "5d7084a9-17d2-4e85-d4ab-e33756e449f6"
      },
      "execution_count": null,
      "outputs": [
        {
          "output_type": "execute_result",
          "data": {
            "text/plain": [
              "array(['#StormEunice', '#TarkanYalnızDeğildir', '#Gitcek', 'Wordle 244 X',\n",
              "       '#FridayFeeling', 'OUR LOVE FOR SUNGHOON'], dtype='<U21')"
            ]
          },
          "metadata": {},
          "execution_count": 112
        }
      ]
    },
    {
      "cell_type": "code",
      "source": [
        "tweets"
      ],
      "metadata": {
        "colab": {
          "base_uri": "https://localhost:8080/"
        },
        "id": "DvQnDwwzBGfQ",
        "outputId": "1d4bce5f-b3f3-48d4-b866-a1a0a02fc0ff"
      },
      "execution_count": null,
      "outputs": [
        {
          "output_type": "execute_result",
          "data": {
            "text/plain": [
              "array([82605, 16079, 35730, 10423, 16002, 44255])"
            ]
          },
          "metadata": {},
          "execution_count": 113
        }
      ]
    },
    {
      "cell_type": "code",
      "source": [
        "k,v=name,tweets\n",
        "pd.DataFrame(v,k)"
      ],
      "metadata": {
        "colab": {
          "base_uri": "https://localhost:8080/",
          "height": 237
        },
        "id": "Voay_KYJB-O4",
        "outputId": "19ae633e-a92c-43eb-efe9-cf568a29ae92"
      },
      "execution_count": null,
      "outputs": [
        {
          "output_type": "execute_result",
          "data": {
            "text/html": [
              "\n",
              "  <div id=\"df-3e658267-3ec2-4ec4-bebe-cf1a0d48a5f7\">\n",
              "    <div class=\"colab-df-container\">\n",
              "      <div>\n",
              "<style scoped>\n",
              "    .dataframe tbody tr th:only-of-type {\n",
              "        vertical-align: middle;\n",
              "    }\n",
              "\n",
              "    .dataframe tbody tr th {\n",
              "        vertical-align: top;\n",
              "    }\n",
              "\n",
              "    .dataframe thead th {\n",
              "        text-align: right;\n",
              "    }\n",
              "</style>\n",
              "<table border=\"1\" class=\"dataframe\">\n",
              "  <thead>\n",
              "    <tr style=\"text-align: right;\">\n",
              "      <th></th>\n",
              "      <th>0</th>\n",
              "    </tr>\n",
              "  </thead>\n",
              "  <tbody>\n",
              "    <tr>\n",
              "      <th>#StormEunice</th>\n",
              "      <td>82605</td>\n",
              "    </tr>\n",
              "    <tr>\n",
              "      <th>#TarkanYalnızDeğildir</th>\n",
              "      <td>16079</td>\n",
              "    </tr>\n",
              "    <tr>\n",
              "      <th>#Gitcek</th>\n",
              "      <td>35730</td>\n",
              "    </tr>\n",
              "    <tr>\n",
              "      <th>Wordle 244 X</th>\n",
              "      <td>10423</td>\n",
              "    </tr>\n",
              "    <tr>\n",
              "      <th>#FridayFeeling</th>\n",
              "      <td>16002</td>\n",
              "    </tr>\n",
              "    <tr>\n",
              "      <th>OUR LOVE FOR SUNGHOON</th>\n",
              "      <td>44255</td>\n",
              "    </tr>\n",
              "  </tbody>\n",
              "</table>\n",
              "</div>\n",
              "      <button class=\"colab-df-convert\" onclick=\"convertToInteractive('df-3e658267-3ec2-4ec4-bebe-cf1a0d48a5f7')\"\n",
              "              title=\"Convert this dataframe to an interactive table.\"\n",
              "              style=\"display:none;\">\n",
              "        \n",
              "  <svg xmlns=\"http://www.w3.org/2000/svg\" height=\"24px\"viewBox=\"0 0 24 24\"\n",
              "       width=\"24px\">\n",
              "    <path d=\"M0 0h24v24H0V0z\" fill=\"none\"/>\n",
              "    <path d=\"M18.56 5.44l.94 2.06.94-2.06 2.06-.94-2.06-.94-.94-2.06-.94 2.06-2.06.94zm-11 1L8.5 8.5l.94-2.06 2.06-.94-2.06-.94L8.5 2.5l-.94 2.06-2.06.94zm10 10l.94 2.06.94-2.06 2.06-.94-2.06-.94-.94-2.06-.94 2.06-2.06.94z\"/><path d=\"M17.41 7.96l-1.37-1.37c-.4-.4-.92-.59-1.43-.59-.52 0-1.04.2-1.43.59L10.3 9.45l-7.72 7.72c-.78.78-.78 2.05 0 2.83L4 21.41c.39.39.9.59 1.41.59.51 0 1.02-.2 1.41-.59l7.78-7.78 2.81-2.81c.8-.78.8-2.07 0-2.86zM5.41 20L4 18.59l7.72-7.72 1.47 1.35L5.41 20z\"/>\n",
              "  </svg>\n",
              "      </button>\n",
              "      \n",
              "  <style>\n",
              "    .colab-df-container {\n",
              "      display:flex;\n",
              "      flex-wrap:wrap;\n",
              "      gap: 12px;\n",
              "    }\n",
              "\n",
              "    .colab-df-convert {\n",
              "      background-color: #E8F0FE;\n",
              "      border: none;\n",
              "      border-radius: 50%;\n",
              "      cursor: pointer;\n",
              "      display: none;\n",
              "      fill: #1967D2;\n",
              "      height: 32px;\n",
              "      padding: 0 0 0 0;\n",
              "      width: 32px;\n",
              "    }\n",
              "\n",
              "    .colab-df-convert:hover {\n",
              "      background-color: #E2EBFA;\n",
              "      box-shadow: 0px 1px 2px rgba(60, 64, 67, 0.3), 0px 1px 3px 1px rgba(60, 64, 67, 0.15);\n",
              "      fill: #174EA6;\n",
              "    }\n",
              "\n",
              "    [theme=dark] .colab-df-convert {\n",
              "      background-color: #3B4455;\n",
              "      fill: #D2E3FC;\n",
              "    }\n",
              "\n",
              "    [theme=dark] .colab-df-convert:hover {\n",
              "      background-color: #434B5C;\n",
              "      box-shadow: 0px 1px 3px 1px rgba(0, 0, 0, 0.15);\n",
              "      filter: drop-shadow(0px 1px 2px rgba(0, 0, 0, 0.3));\n",
              "      fill: #FFFFFF;\n",
              "    }\n",
              "  </style>\n",
              "\n",
              "      <script>\n",
              "        const buttonEl =\n",
              "          document.querySelector('#df-3e658267-3ec2-4ec4-bebe-cf1a0d48a5f7 button.colab-df-convert');\n",
              "        buttonEl.style.display =\n",
              "          google.colab.kernel.accessAllowed ? 'block' : 'none';\n",
              "\n",
              "        async function convertToInteractive(key) {\n",
              "          const element = document.querySelector('#df-3e658267-3ec2-4ec4-bebe-cf1a0d48a5f7');\n",
              "          const dataTable =\n",
              "            await google.colab.kernel.invokeFunction('convertToInteractive',\n",
              "                                                     [key], {});\n",
              "          if (!dataTable) return;\n",
              "\n",
              "          const docLinkHtml = 'Like what you see? Visit the ' +\n",
              "            '<a target=\"_blank\" href=https://colab.research.google.com/notebooks/data_table.ipynb>data table notebook</a>'\n",
              "            + ' to learn more about interactive tables.';\n",
              "          element.innerHTML = '';\n",
              "          dataTable['output_type'] = 'display_data';\n",
              "          await google.colab.output.renderOutput(dataTable, element);\n",
              "          const docLink = document.createElement('div');\n",
              "          docLink.innerHTML = docLinkHtml;\n",
              "          element.appendChild(docLink);\n",
              "        }\n",
              "      </script>\n",
              "    </div>\n",
              "  </div>\n",
              "  "
            ],
            "text/plain": [
              "                           0\n",
              "#StormEunice           82605\n",
              "#TarkanYalnızDeğildir  16079\n",
              "#Gitcek                35730\n",
              "Wordle 244 X           10423\n",
              "#FridayFeeling         16002\n",
              "OUR LOVE FOR SUNGHOON  44255"
            ]
          },
          "metadata": {},
          "execution_count": 114
        }
      ]
    },
    {
      "cell_type": "markdown",
      "source": [
        "### **1. World Tweets trending data**"
      ],
      "metadata": {
        "id": "lDjfp5eSQh9B"
      }
    },
    {
      "cell_type": "code",
      "source": [
        "plt.figure(figsize=(15,8))\n",
        "sns.barplot(x=name,y=tweets)"
      ],
      "metadata": {
        "colab": {
          "base_uri": "https://localhost:8080/",
          "height": 501
        },
        "id": "idKpoDLaAV6L",
        "outputId": "34fe9d1f-d922-4793-86df-aaccc76493d6"
      },
      "execution_count": null,
      "outputs": [
        {
          "output_type": "execute_result",
          "data": {
            "text/plain": [
              "<matplotlib.axes._subplots.AxesSubplot at 0x7f988dd56390>"
            ]
          },
          "metadata": {},
          "execution_count": 133
        },
        {
          "output_type": "display_data",
          "data": {
            "image/png": "[encoded data removed]",
            "text/plain": [
              "<Figure size 1080x576 with 1 Axes>"
            ]
          },
          "metadata": {
            "needs_background": "light"
          }
        }
      ]
    },
    {
      "cell_type": "markdown",
      "source": [
        "### Twitter trends in various other regions by reading their respective WOEID"
      ],
      "metadata": {
        "id": "3OLjJ-yTDHry"
      }
    },
    {
      "cell_type": "code",
      "source": [
        "datas=pd.read_csv(\"woeid.csv\")"
      ],
      "metadata": {
        "id": "S1FWcRrCD6wM"
      },
      "execution_count": null,
      "outputs": []
    },
    {
      "cell_type": "code",
      "source": [
        "datas.info()"
      ],
      "metadata": {
        "colab": {
          "base_uri": "https://localhost:8080/"
        },
        "id": "2fpnEfhBGGuX",
        "outputId": "7e186d6b-05a6-42c4-b19e-eec7a0490ce7"
      },
      "execution_count": null,
      "outputs": [
        {
          "output_type": "stream",
          "name": "stdout",
          "text": [
            "<class 'pandas.core.frame.DataFrame'>\n",
            "RangeIndex: 8 entries, 0 to 7\n",
            "Data columns (total 4 columns):\n",
            " #   Column          Non-Null Count  Dtype \n",
            "---  ------          --------------  ----- \n",
            " 0   LOCALITY        8 non-null      object\n",
            " 1   STATE/PROVINCE  8 non-null      object\n",
            " 2   COUNTRY         8 non-null      object\n",
            " 3   WOE ID          8 non-null      int64 \n",
            "dtypes: int64(1), object(3)\n",
            "memory usage: 384.0+ bytes\n"
          ]
        }
      ]
    },
    {
      "cell_type": "code",
      "source": [
        "datas.head(10)"
      ],
      "metadata": {
        "colab": {
          "base_uri": "https://localhost:8080/",
          "height": 300
        },
        "id": "cw5lMiu-94-2",
        "outputId": "9533829e-7bdd-44d5-87ab-a713ee8ee5d8"
      },
      "execution_count": null,
      "outputs": [
        {
          "output_type": "execute_result",
          "data": {
            "text/html": [
              "\n",
              "  <div id=\"df-ea490ad9-5055-4e32-9725-c81e176b2159\">\n",
              "    <div class=\"colab-df-container\">\n",
              "      <div>\n",
              "<style scoped>\n",
              "    .dataframe tbody tr th:only-of-type {\n",
              "        vertical-align: middle;\n",
              "    }\n",
              "\n",
              "    .dataframe tbody tr th {\n",
              "        vertical-align: top;\n",
              "    }\n",
              "\n",
              "    .dataframe thead th {\n",
              "        text-align: right;\n",
              "    }\n",
              "</style>\n",
              "<table border=\"1\" class=\"dataframe\">\n",
              "  <thead>\n",
              "    <tr style=\"text-align: right;\">\n",
              "      <th></th>\n",
              "      <th>LOCALITY</th>\n",
              "      <th>STATE/PROVINCE</th>\n",
              "      <th>COUNTRY</th>\n",
              "      <th>WOE ID</th>\n",
              "    </tr>\n",
              "  </thead>\n",
              "  <tbody>\n",
              "    <tr>\n",
              "      <th>0</th>\n",
              "      <td>New York</td>\n",
              "      <td>New York</td>\n",
              "      <td>US</td>\n",
              "      <td>2459115</td>\n",
              "    </tr>\n",
              "    <tr>\n",
              "      <th>1</th>\n",
              "      <td>Los Angeles</td>\n",
              "      <td>Los Angeles</td>\n",
              "      <td>US</td>\n",
              "      <td>2442047</td>\n",
              "    </tr>\n",
              "    <tr>\n",
              "      <th>2</th>\n",
              "      <td>Toronto</td>\n",
              "      <td>Toronto</td>\n",
              "      <td>CA</td>\n",
              "      <td>4118</td>\n",
              "    </tr>\n",
              "    <tr>\n",
              "      <th>3</th>\n",
              "      <td>Sydney</td>\n",
              "      <td>Sydney</td>\n",
              "      <td>AU</td>\n",
              "      <td>1105779</td>\n",
              "    </tr>\n",
              "    <tr>\n",
              "      <th>4</th>\n",
              "      <td>London</td>\n",
              "      <td>Greater London</td>\n",
              "      <td>GB</td>\n",
              "      <td>44418</td>\n",
              "    </tr>\n",
              "    <tr>\n",
              "      <th>5</th>\n",
              "      <td>Madrid</td>\n",
              "      <td>Madrid</td>\n",
              "      <td>ES</td>\n",
              "      <td>766273</td>\n",
              "    </tr>\n",
              "    <tr>\n",
              "      <th>6</th>\n",
              "      <td>Rome</td>\n",
              "      <td>Roma</td>\n",
              "      <td>IT</td>\n",
              "      <td>721943</td>\n",
              "    </tr>\n",
              "    <tr>\n",
              "      <th>7</th>\n",
              "      <td>Paris</td>\n",
              "      <td>Paris</td>\n",
              "      <td>FR</td>\n",
              "      <td>615702</td>\n",
              "    </tr>\n",
              "  </tbody>\n",
              "</table>\n",
              "</div>\n",
              "      <button class=\"colab-df-convert\" onclick=\"convertToInteractive('df-ea490ad9-5055-4e32-9725-c81e176b2159')\"\n",
              "              title=\"Convert this dataframe to an interactive table.\"\n",
              "              style=\"display:none;\">\n",
              "        \n",
              "  <svg xmlns=\"http://www.w3.org/2000/svg\" height=\"24px\"viewBox=\"0 0 24 24\"\n",
              "       width=\"24px\">\n",
              "    <path d=\"M0 0h24v24H0V0z\" fill=\"none\"/>\n",
              "    <path d=\"M18.56 5.44l.94 2.06.94-2.06 2.06-.94-2.06-.94-.94-2.06-.94 2.06-2.06.94zm-11 1L8.5 8.5l.94-2.06 2.06-.94-2.06-.94L8.5 2.5l-.94 2.06-2.06.94zm10 10l.94 2.06.94-2.06 2.06-.94-2.06-.94-.94-2.06-.94 2.06-2.06.94z\"/><path d=\"M17.41 7.96l-1.37-1.37c-.4-.4-.92-.59-1.43-.59-.52 0-1.04.2-1.43.59L10.3 9.45l-7.72 7.72c-.78.78-.78 2.05 0 2.83L4 21.41c.39.39.9.59 1.41.59.51 0 1.02-.2 1.41-.59l7.78-7.78 2.81-2.81c.8-.78.8-2.07 0-2.86zM5.41 20L4 18.59l7.72-7.72 1.47 1.35L5.41 20z\"/>\n",
              "  </svg>\n",
              "      </button>\n",
              "      \n",
              "  <style>\n",
              "    .colab-df-container {\n",
              "      display:flex;\n",
              "      flex-wrap:wrap;\n",
              "      gap: 12px;\n",
              "    }\n",
              "\n",
              "    .colab-df-convert {\n",
              "      background-color: #E8F0FE;\n",
              "      border: none;\n",
              "      border-radius: 50%;\n",
              "      cursor: pointer;\n",
              "      display: none;\n",
              "      fill: #1967D2;\n",
              "      height: 32px;\n",
              "      padding: 0 0 0 0;\n",
              "      width: 32px;\n",
              "    }\n",
              "\n",
              "    .colab-df-convert:hover {\n",
              "      background-color: #E2EBFA;\n",
              "      box-shadow: 0px 1px 2px rgba(60, 64, 67, 0.3), 0px 1px 3px 1px rgba(60, 64, 67, 0.15);\n",
              "      fill: #174EA6;\n",
              "    }\n",
              "\n",
              "    [theme=dark] .colab-df-convert {\n",
              "      background-color: #3B4455;\n",
              "      fill: #D2E3FC;\n",
              "    }\n",
              "\n",
              "    [theme=dark] .colab-df-convert:hover {\n",
              "      background-color: #434B5C;\n",
              "      box-shadow: 0px 1px 3px 1px rgba(0, 0, 0, 0.15);\n",
              "      filter: drop-shadow(0px 1px 2px rgba(0, 0, 0, 0.3));\n",
              "      fill: #FFFFFF;\n",
              "    }\n",
              "  </style>\n",
              "\n",
              "      <script>\n",
              "        const buttonEl =\n",
              "          document.querySelector('#df-ea490ad9-5055-4e32-9725-c81e176b2159 button.colab-df-convert');\n",
              "        buttonEl.style.display =\n",
              "          google.colab.kernel.accessAllowed ? 'block' : 'none';\n",
              "\n",
              "        async function convertToInteractive(key) {\n",
              "          const element = document.querySelector('#df-ea490ad9-5055-4e32-9725-c81e176b2159');\n",
              "          const dataTable =\n",
              "            await google.colab.kernel.invokeFunction('convertToInteractive',\n",
              "                                                     [key], {});\n",
              "          if (!dataTable) return;\n",
              "\n",
              "          const docLinkHtml = 'Like what you see? Visit the ' +\n",
              "            '<a target=\"_blank\" href=https://colab.research.google.com/notebooks/data_table.ipynb>data table notebook</a>'\n",
              "            + ' to learn more about interactive tables.';\n",
              "          element.innerHTML = '';\n",
              "          dataTable['output_type'] = 'display_data';\n",
              "          await google.colab.output.renderOutput(dataTable, element);\n",
              "          const docLink = document.createElement('div');\n",
              "          docLink.innerHTML = docLinkHtml;\n",
              "          element.appendChild(docLink);\n",
              "        }\n",
              "      </script>\n",
              "    </div>\n",
              "  </div>\n",
              "  "
            ],
            "text/plain": [
              "      LOCALITY  STATE/PROVINCE COUNTRY   WOE ID\n",
              "0     New York        New York      US  2459115\n",
              "1  Los Angeles     Los Angeles      US  2442047\n",
              "2      Toronto         Toronto      CA     4118\n",
              "3       Sydney          Sydney      AU  1105779\n",
              "4       London  Greater London      GB    44418\n",
              "5       Madrid          Madrid      ES   766273\n",
              "6         Rome            Roma      IT   721943\n",
              "7        Paris           Paris      FR   615702"
            ]
          },
          "metadata": {},
          "execution_count": 118
        }
      ]
    },
    {
      "cell_type": "code",
      "source": [
        "datas.columns"
      ],
      "metadata": {
        "colab": {
          "base_uri": "https://localhost:8080/"
        },
        "id": "3lpslQ8vGN2-",
        "outputId": "23bdd942-4548-443c-98e1-2c682c27f6ad"
      },
      "execution_count": null,
      "outputs": [
        {
          "output_type": "execute_result",
          "data": {
            "text/plain": [
              "Index(['LOCALITY', 'STATE/PROVINCE', 'COUNTRY', 'WOE ID'], dtype='object')"
            ]
          },
          "metadata": {},
          "execution_count": 119
        }
      ]
    },
    {
      "cell_type": "markdown",
      "source": [
        "### **2. Multiple countries twitter trends in a single frame**"
      ],
      "metadata": {
        "id": "ZBGf0tUXQ4gF"
      }
    },
    {
      "cell_type": "markdown",
      "source": [
        "### Looking at all the datas in a single frame."
      ],
      "metadata": {
        "id": "8PK42LsWPzRc"
      }
    },
    {
      "cell_type": "code",
      "source": [
        "nm_list=[]\n",
        "tw_list=[]\n",
        "country_data=datas['WOE ID'].head()\n",
        "for country in country_data:\n",
        "  # print(country)\n",
        "  trend_rt=api.trends_place(country)\n",
        "  for trends in trend_rt[0][\"trends\"][:5]:\n",
        "    if trends[\"tweet_volume\"]:\n",
        "      nm_list.append(trends[\"name\"])\n",
        "      tw_list.append(trends[\"tweet_volume\"])"
      ],
      "metadata": {
        "id": "WutdgPg2GRuj"
      },
      "execution_count": null,
      "outputs": []
    },
    {
      "cell_type": "code",
      "source": [
        "name_con=np.array(nm_list)\n",
        "tweets_con=np.array(tw_list)\n",
        "plt.figure(figsize=(20,8))\n",
        "sns.barplot(name_con,tweets_con)"
      ],
      "metadata": {
        "colab": {
          "base_uri": "https://localhost:8080/",
          "height": 550
        },
        "id": "vGEDohoCOmld",
        "outputId": "bd781b60-2c99-4bfe-e109-563b16336720"
      },
      "execution_count": null,
      "outputs": [
        {
          "output_type": "stream",
          "name": "stderr",
          "text": [
            "/usr/local/lib/python3.7/dist-packages/seaborn/_decorators.py:43: FutureWarning: Pass the following variables as keyword args: x, y. From version 0.12, the only valid positional argument will be `data`, and passing other arguments without an explicit keyword will result in an error or misinterpretation.\n",
            "  FutureWarning\n"
          ]
        },
        {
          "output_type": "execute_result",
          "data": {
            "text/plain": [
              "<matplotlib.axes._subplots.AxesSubplot at 0x7f988a86b5d0>"
            ]
          },
          "metadata": {},
          "execution_count": 125
        },
        {
          "output_type": "display_data",
          "data": {
            "image/png": "[encoded data removed]",
            "text/plain": [
              "<Figure size 1440x576 with 1 Axes>"
            ]
          },
          "metadata": {
            "needs_background": "light"
          }
        }
      ]
    },
    {
      "cell_type": "markdown",
      "source": [
        "### **3. Multiple countries separate twitter trend data**"
      ],
      "metadata": {
        "id": "VQlz81JXQsox"
      }
    },
    {
      "cell_type": "markdown",
      "source": [
        "Twitter trends in multiple nations is plotted in a barchart to see the popular tweets in various countries."
      ],
      "metadata": {
        "id": "FlUva7bNJLSD"
      }
    },
    {
      "cell_type": "code",
      "source": [
        "nm_list=[]\n",
        "tw_list=[]\n",
        "country_data=datas['WOE ID']\n",
        "for tweets_cont in country_data:\n",
        "  nm_list=[]\n",
        "  tw_list=[]\n",
        "\n",
        "  trend_rt=api.trends_place(tweets_cont)\n",
        "  for trendss in trend_rt[0][\"trends\"][:5]:\n",
        "    if trendss[\"tweet_volume\"]:\n",
        "      nm_list.append(trendss[\"name\"])\n",
        "      tw_list.append(trendss[\"tweet_volume\"])\n",
        "  name1=np.array(nm_list)\n",
        "  tweets1=np.array(tw_list)\n",
        "  c,d=name1,tweets1\n",
        "  pd.DataFrame(d,c)\n",
        "  plt.figure(figsize=(7,3))\n",
        "\n",
        "  sns.barplot(x=c,y=d)\n",
        "  plt.title(tweets_cont)\n",
        "\n"
      ],
      "metadata": {
        "colab": {
          "base_uri": "https://localhost:8080/",
          "height": 1000
        },
        "id": "mwowZLGrDbqo",
        "outputId": "a3fd8c3b-f380-45b2-d456-5560dd59eece"
      },
      "execution_count": null,
      "outputs": [
        {
          "output_type": "display_data",
          "data": {
            "image/png": "[encoded data removed]",
            "text/plain": [
              "<Figure size 504x216 with 1 Axes>"
            ]
          },
          "metadata": {
            "needs_background": "light"
          }
        },
        {
          "output_type": "display_data",
          "data": {
            "image/png": "[encoded data removed]",
            "text/plain": [
              "<Figure size 504x216 with 1 Axes>"
            ]
          },
          "metadata": {
            "needs_background": "light"
          }
        },
        {
          "output_type": "display_data",
          "data": {
            "image/png": "[encoded data removed]",
            "text/plain": [
              "<Figure size 504x216 with 1 Axes>"
            ]
          },
          "metadata": {
            "needs_background": "light"
          }
        },
        {
          "output_type": "display_data",
          "data": {
            "image/png": "[encoded data removed]",
            "text/plain": [
              "<Figure size 504x216 with 1 Axes>"
            ]
          },
          "metadata": {
            "needs_background": "light"
          }
        },
        {
          "output_type": "display_data",
          "data": {
            "image/png": "[encoded data removed]",
            "text/plain": [
              "<Figure size 504x216 with 1 Axes>"
            ]
          },
          "metadata": {
            "needs_background": "light"
          }
        },
        {
          "output_type": "display_data",
          "data": {
            "image/png": "[encoded data removed]",
            "text/plain": [
              "<Figure size 504x216 with 1 Axes>"
            ]
          },
          "metadata": {
            "needs_background": "light"
          }
        },
        {
          "output_type": "display_data",
          "data": {
            "image/png": "[encoded data removed]",
            "text/plain": [
              "<Figure size 504x216 with 1 Axes>"
            ]
          },
          "metadata": {
            "needs_background": "light"
          }
        },
        {
          "output_type": "display_data",
          "data": {
            "image/png": "[encoded data removed]",
            "text/plain": [
              "<Figure size 504x216 with 1 Axes>"
            ]
          },
          "metadata": {
            "needs_background": "light"
          }
        }
      ]
    },
    {
      "cell_type": "markdown",
      "source": [
        "### **4. Home page public tweets**"
      ],
      "metadata": {
        "id": "bWAoP0MiREcS"
      }
    },
    {
      "cell_type": "markdown",
      "source": [
        "### Extracting the public tweets from twitter"
      ],
      "metadata": {
        "id": "IvEt4OfXOPDG"
      }
    },
    {
      "cell_type": "code",
      "source": [
        "public_tweets=api.home_timeline()\n",
        "for tweet in public_tweets:\n",
        "  # print(tweet[\"name\"])\n",
        "  print(tweet.text)\n",
        "  print(tweet.retweet_count)"
      ],
      "metadata": {
        "colab": {
          "base_uri": "https://localhost:8080/"
        },
        "id": "499QbypZt5Bg",
        "outputId": "344ec152-aad8-437a-8bd5-816e8c35ffff"
      },
      "execution_count": null,
      "outputs": [
        {
          "output_type": "stream",
          "name": "stdout",
          "text": [
            "Elizabeth Hurley stuns in plunging gown with gorgeous back detailing at Joan Collins' bash https://t.co/1Gj1CsEVKh\n",
            "0\n",
            "RT @votevets: When we tell you Republicans hate Veterans, we're not lying. They talk a good game, but their votes speak louder than words.…\n",
            "1311\n",
            "A safe and inclusive environment helps every young girl thrive.\n",
            "\n",
            "UNICEF's \"Supporting Girls to Thrive\" programme is… https://t.co/epznLgjKf8\n",
            "11\n",
            "Lorraine reveals her plans to get fit and healthy again after going up two dress sizes in lockdown 👗 https://t.co/sDNnXUXtni\n",
            "0\n",
            "Dear Friday,\n",
            "\n",
            "I’m so glad we are back together now.\n",
            "\n",
            "I’m really sorry you had to see me with Monday-Thursday but I… https://t.co/ortXyc2Rdx\n",
            "26\n",
            "Looking for someone who can write a story to go with it in exactly 4 words. No more, no less. \n",
            "\n",
            "If you're up for it… https://t.co/Q3N9AQrfEV\n",
            "2\n",
            "Kate Garraway's family home is a retreat for her husband Derek – photos https://t.co/rFf0B1w8DY\n",
            "0\n",
            "Did you know that two royal heirs can never fly on the same flight? Or that every royal MUST pack a black outfit wh… https://t.co/tci6Sj7YfP\n",
            "0\n",
            "Responding to a query, Minister Karki said that today’s meeting of the Business Advisory Committee would decide  ..… https://t.co/OGSxKeEyRd\n",
            "0\n",
            "Romeo Beckham resembles famous dad David Beckham in striking new photos https://t.co/bGHgTJ4DPN\n",
            "0\n",
            "अफरअन्तर्गत ग्राहकहरुले हुन्डाई आर १४० एलएस स्मार्ट खरिदमा २ हजार घण्टा बराबरको सर्भिस किट निःशुल्क प्राप्त गर्न स… https://t.co/oW5jTUPvLN\n",
            "0\n",
            "आन्भी मार्केटप्लेस यहि १७ फेब्रअरीमा सार्वजनिक भएको छ । जापानमा बस्ने नेपालीहरुलाई लक्षित गर्दै  ...… https://t.co/TGE02OVFDV\n",
            "0\n",
            "चिउरीडाँडा स्वास्थ्य चौकीमा बैंकका सञ्चालक समितिका सदस्य तथा हाम्रो विकास प्रवद्धधन कोष ..\n",
            "@JyotiBikashBank… https://t.co/s3p2gpMzrJ\n",
            "0\n",
            "बैंकले आफ्नो सेवा अझ सुदृढ अनि व्यापक बनाउने विश्वास राखेको छ । सुविधाजनक बचत खाता योजना ..\n",
            "@ekarobar_daily\n",
            "https://t.co/pV10c9PVN0\n",
            "1\n",
            "माछापुच्छ्रे बैंकमै लामो समय उच्च व्यवस्थापन तहमा रही कुशल नेतृत्व, व्यवस्थापकीय दक्षता भएका थापा बहुबैंकिङ व्यवसाय… https://t.co/U23FLX0OpK\n",
            "0\n",
            "बैंकले आफ्नो एक शाखा, एक सामाजिक उत्तरदायित्व कार्यक्रम अन्तर्गत सो सहयोग गरेको जनाएको छ ।\n",
            "सो शाखाले उद्योग वाणिज्य… https://t.co/ysDdAAAzja\n",
            "0\n",
            "सीवीफीन र त्रिवि अर्थशास्त्र केन्द्रीय विभागबीच समझदारी पत्रमा हस्ताक्षर\n",
            "https://t.co/XCaOOaJ7zK\n",
            "#CVFIN #TRIV… https://t.co/nxHiVQQht4\n",
            "0\n",
            "Ciara shares heartwarming behind-the-scenes video of playful kids during at-home photoshoot https://t.co/xHMTw60LGm\n",
            "0\n",
            "खल्तीमार्फत मेरो सेयर खाता निःशुल्क नवीकरण\n",
            "https://t.co/2MLXHqeB5z\n",
            "#KHALTI #MERO_SHARE #ACCOUNT_RENEW_FREE… https://t.co/nX3D30ZUPu\n",
            "0\n",
            "सन् २०१४ मा सरु भएको सो विमानस्थल सन् २०१७को अन्त्यमा निर्माण समापन हुनु पर्ने भएपनि विभिन्न प्राविधिक कारणले गर्दा… https://t.co/MnVFum4FaF\n",
            "0\n"
          ]
        }
      ]
    },
    {
      "cell_type": "code",
      "source": [
        "# cursor=tweepy.Cursor(api.user_timeline,id=\"realdonaldmap\",tweet_mode=\"extended\").items(1)"
      ],
      "metadata": {
        "id": "lCs7geaMSB3m"
      },
      "execution_count": null,
      "outputs": []
    },
    {
      "cell_type": "code",
      "source": [
        "# for i in cursor:\n",
        "#   print(i)"
      ],
      "metadata": {
        "id": "-Ll5erGuEGdy",
        "colab": {
          "base_uri": "https://localhost:8080/"
        },
        "outputId": "87b9d657-9c2a-4eb1-89f0-1fb52c161d5a"
      },
      "execution_count": null,
      "outputs": [
        {
          "output_type": "stream",
          "name": "stdout",
          "text": [
            "Status(_api=<tweepy.api.API object at 0x7f988aac9c50>, _json={'created_at': 'Fri Feb 18 09:00:03 +0000 2022', 'id': 1494597568537497601, 'id_str': '1494597568537497601', 'full_text': 'BOTSWANA!', 'truncated': False, 'display_text_range': [0, 9], 'entities': {'hashtags': [], 'symbols': [], 'user_mentions': [], 'urls': []}, 'source': '<a href=\"https://mobile.twitter.com\" rel=\"nofollow\">Twitter Web App</a>', 'in_reply_to_status_id': None, 'in_reply_to_status_id_str': None, 'in_reply_to_user_id': None, 'in_reply_to_user_id_str': None, 'in_reply_to_screen_name': None, 'user': {'id': 1266413898426716162, 'id_str': '1266413898426716162', 'name': 'Donald Trump Tweets a Country Every Hour', 'screen_name': 'realdonaldmap', 'location': '', 'description': 'Donald Trump Tweets a Country Every Hour. This is a parody account and is by no means related to Mr. President. Created by @ronasherov', 'url': None, 'entities': {'description': {'urls': []}}, 'protected': False, 'followers_count': 21338, 'friends_count': 0, 'listed_count': 263, 'created_at': 'Fri May 29 17:00:04 +0000 2020', 'favourites_count': 78, 'utc_offset': None, 'time_zone': None, 'geo_enabled': False, 'verified': False, 'statuses_count': 22374, 'lang': None, 'contributors_enabled': False, 'is_translator': False, 'is_translation_enabled': False, 'profile_background_color': 'F5F8FA', 'profile_background_image_url': None, 'profile_background_image_url_https': None, 'profile_background_tile': False, 'profile_image_url': 'http://pbs.twimg.com/profile_images/1266414222109544453/1EVuI99d_normal.jpg', 'profile_image_url_https': 'https://pbs.twimg.com/profile_images/1266414222109544453/1EVuI99d_normal.jpg', 'profile_link_color': '1DA1F2', 'profile_sidebar_border_color': 'C0DEED', 'profile_sidebar_fill_color': 'DDEEF6', 'profile_text_color': '333333', 'profile_use_background_image': True, 'has_extended_profile': False, 'default_profile': True, 'default_profile_image': False, 'following': False, 'follow_request_sent': False, 'notifications': False, 'translator_type': 'none', 'withheld_in_countries': []}, 'geo': None, 'coordinates': None, 'place': None, 'contributors': None, 'is_quote_status': False, 'retweet_count': 0, 'favorite_count': 1, 'favorited': False, 'retweeted': False, 'lang': 'es'}, created_at=datetime.datetime(2022, 2, 18, 9, 0, 3), id=1494597568537497601, id_str='1494597568537497601', full_text='BOTSWANA!', truncated=False, display_text_range=[0, 9], entities={'hashtags': [], 'symbols': [], 'user_mentions': [], 'urls': []}, source='Twitter Web App', source_url='https://mobile.twitter.com', in_reply_to_status_id=None, in_reply_to_status_id_str=None, in_reply_to_user_id=None, in_reply_to_user_id_str=None, in_reply_to_screen_name=None, author=User(_api=<tweepy.api.API object at 0x7f988aac9c50>, _json={'id': 1266413898426716162, 'id_str': '1266413898426716162', 'name': 'Donald Trump Tweets a Country Every Hour', 'screen_name': 'realdonaldmap', 'location': '', 'description': 'Donald Trump Tweets a Country Every Hour. This is a parody account and is by no means related to Mr. President. Created by @ronasherov', 'url': None, 'entities': {'description': {'urls': []}}, 'protected': False, 'followers_count': 21338, 'friends_count': 0, 'listed_count': 263, 'created_at': 'Fri May 29 17:00:04 +0000 2020', 'favourites_count': 78, 'utc_offset': None, 'time_zone': None, 'geo_enabled': False, 'verified': False, 'statuses_count': 22374, 'lang': None, 'contributors_enabled': False, 'is_translator': False, 'is_translation_enabled': False, 'profile_background_color': 'F5F8FA', 'profile_background_image_url': None, 'profile_background_image_url_https': None, 'profile_background_tile': False, 'profile_image_url': 'http://pbs.twimg.com/profile_images/1266414222109544453/1EVuI99d_normal.jpg', 'profile_image_url_https': 'https://pbs.twimg.com/profile_images/1266414222109544453/1EVuI99d_normal.jpg', 'profile_link_color': '1DA1F2', 'profile_sidebar_border_color': 'C0DEED', 'profile_sidebar_fill_color': 'DDEEF6', 'profile_text_color': '333333', 'profile_use_background_image': True, 'has_extended_profile': False, 'default_profile': True, 'default_profile_image': False, 'following': False, 'follow_request_sent': False, 'notifications': False, 'translator_type': 'none', 'withheld_in_countries': []}, id=1266413898426716162, id_str='1266413898426716162', name='Donald Trump Tweets a Country Every Hour', screen_name='realdonaldmap', location='', description='Donald Trump Tweets a Country Every Hour. This is a parody account and is by no means related to Mr. President. Created by @ronasherov', url=None, entities={'description': {'urls': []}}, protected=False, followers_count=21338, friends_count=0, listed_count=263, created_at=datetime.datetime(2020, 5, 29, 17, 0, 4), favourites_count=78, utc_offset=None, time_zone=None, geo_enabled=False, verified=False, statuses_count=22374, lang=None, contributors_enabled=False, is_translator=False, is_translation_enabled=False, profile_background_color='F5F8FA', profile_background_image_url=None, profile_background_image_url_https=None, profile_background_tile=False, profile_image_url='http://pbs.twimg.com/profile_images/1266414222109544453/1EVuI99d_normal.jpg', profile_image_url_https='https://pbs.twimg.com/profile_images/1266414222109544453/1EVuI99d_normal.jpg', profile_link_color='1DA1F2', profile_sidebar_border_color='C0DEED', profile_sidebar_fill_color='DDEEF6', profile_text_color='333333', profile_use_background_image=True, has_extended_profile=False, default_profile=True, default_profile_image=False, following=False, follow_request_sent=False, notifications=False, translator_type='none', withheld_in_countries=[]), user=User(_api=<tweepy.api.API object at 0x7f988aac9c50>, _json={'id': 1266413898426716162, 'id_str': '1266413898426716162', 'name': 'Donald Trump Tweets a Country Every Hour', 'screen_name': 'realdonaldmap', 'location': '', 'description': 'Donald Trump Tweets a Country Every Hour. This is a parody account and is by no means related to Mr. President. Created by @ronasherov', 'url': None, 'entities': {'description': {'urls': []}}, 'protected': False, 'followers_count': 21338, 'friends_count': 0, 'listed_count': 263, 'created_at': 'Fri May 29 17:00:04 +0000 2020', 'favourites_count': 78, 'utc_offset': None, 'time_zone': None, 'geo_enabled': False, 'verified': False, 'statuses_count': 22374, 'lang': None, 'contributors_enabled': False, 'is_translator': False, 'is_translation_enabled': False, 'profile_background_color': 'F5F8FA', 'profile_background_image_url': None, 'profile_background_image_url_https': None, 'profile_background_tile': False, 'profile_image_url': 'http://pbs.twimg.com/profile_images/1266414222109544453/1EVuI99d_normal.jpg', 'profile_image_url_https': 'https://pbs.twimg.com/profile_images/1266414222109544453/1EVuI99d_normal.jpg', 'profile_link_color': '1DA1F2', 'profile_sidebar_border_color': 'C0DEED', 'profile_sidebar_fill_color': 'DDEEF6', 'profile_text_color': '333333', 'profile_use_background_image': True, 'has_extended_profile': False, 'default_profile': True, 'default_profile_image': False, 'following': False, 'follow_request_sent': False, 'notifications': False, 'translator_type': 'none', 'withheld_in_countries': []}, id=1266413898426716162, id_str='1266413898426716162', name='Donald Trump Tweets a Country Every Hour', screen_name='realdonaldmap', location='', description='Donald Trump Tweets a Country Every Hour. This is a parody account and is by no means related to Mr. President. Created by @ronasherov', url=None, entities={'description': {'urls': []}}, protected=False, followers_count=21338, friends_count=0, listed_count=263, created_at=datetime.datetime(2020, 5, 29, 17, 0, 4), favourites_count=78, utc_offset=None, time_zone=None, geo_enabled=False, verified=False, statuses_count=22374, lang=None, contributors_enabled=False, is_translator=False, is_translation_enabled=False, profile_background_color='F5F8FA', profile_background_image_url=None, profile_background_image_url_https=None, profile_background_tile=False, profile_image_url='http://pbs.twimg.com/profile_images/1266414222109544453/1EVuI99d_normal.jpg', profile_image_url_https='https://pbs.twimg.com/profile_images/1266414222109544453/1EVuI99d_normal.jpg', profile_link_color='1DA1F2', profile_sidebar_border_color='C0DEED', profile_sidebar_fill_color='DDEEF6', profile_text_color='333333', profile_use_background_image=True, has_extended_profile=False, default_profile=True, default_profile_image=False, following=False, follow_request_sent=False, notifications=False, translator_type='none', withheld_in_countries=[]), geo=None, coordinates=None, place=None, contributors=None, is_quote_status=False, retweet_count=0, favorite_count=1, favorited=False, retweeted=False, lang='es')\n"
          ]
        }
      ]
    },
    {
      "cell_type": "code",
      "source": [],
      "metadata": {
        "id": "H5qYiXehYmqN"
      },
      "execution_count": null,
      "outputs": []
    }
  ]
}